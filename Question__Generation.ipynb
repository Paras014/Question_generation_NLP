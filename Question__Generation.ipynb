{
  "cells": [
    {
      "cell_type": "code",
      "execution_count": 1,
      "metadata": {
        "colab": {
          "base_uri": "https://localhost:8080/"
        },
        "id": "AZzvERKbhi2e",
        "outputId": "bf96d932-12f1-47ec-c51a-9959818ddf96"
      },
      "outputs": [
        {
          "output_type": "stream",
          "name": "stderr",
          "text": [
            "[nltk_data] Downloading package punkt to /root/nltk_data...\n",
            "[nltk_data]   Unzipping tokenizers/punkt.zip.\n",
            "[nltk_data] Downloading package stopwords to /root/nltk_data...\n",
            "[nltk_data]   Unzipping corpora/stopwords.zip.\n"
          ]
        },
        {
          "output_type": "execute_result",
          "data": {
            "text/plain": [
              "True"
            ]
          },
          "metadata": {},
          "execution_count": 1
        }
      ],
      "source": [
        "import re\n",
        "import nltk\n",
        "nltk.download('punkt')\n",
        "nltk.download('stopwords')"
      ]
    },
    {
      "cell_type": "code",
      "execution_count": 2,
      "metadata": {
        "colab": {
          "base_uri": "https://localhost:8080/"
        },
        "id": "_3IbwduCaq7W",
        "outputId": "ba0620ea-349f-408d-d9f7-4d9bd2743f41"
      },
      "outputs": [
        {
          "output_type": "stream",
          "name": "stdout",
          "text": [
            "Collecting sentencepiece\n",
            "  Downloading sentencepiece-0.1.99-cp310-cp310-manylinux_2_17_x86_64.manylinux2014_x86_64.whl (1.3 MB)\n",
            "\u001b[2K     \u001b[90m━━━━━━━━━━━━━━━━━━━━━━━━━━━━━━━━━━━━━━━━\u001b[0m \u001b[32m1.3/1.3 MB\u001b[0m \u001b[31m6.4 MB/s\u001b[0m eta \u001b[36m0:00:00\u001b[0m\n",
            "\u001b[?25hInstalling collected packages: sentencepiece\n",
            "Successfully installed sentencepiece-0.1.99\n"
          ]
        }
      ],
      "source": [
        "pip install sentencepiece"
      ]
    },
    {
      "cell_type": "code",
      "execution_count": 3,
      "metadata": {
        "id": "4HB5vTmMI9hg"
      },
      "outputs": [],
      "source": [
        "import torch\n",
        "device = torch.device('cuda' if torch.cuda.is_available() else 'cpu')"
      ]
    },
    {
      "cell_type": "code",
      "execution_count": 59,
      "metadata": {
        "id": "fjHZBwOAiydw"
      },
      "outputs": [],
      "source": [
        "f = open(\"/content/Sachin_Tendulkar.txt\",\"r\")\n",
        "article_text = f.read()"
      ]
    },
    {
      "cell_type": "code",
      "execution_count": 5,
      "metadata": {
        "colab": {
          "base_uri": "https://localhost:8080/"
        },
        "id": "XKjFXIfWmfMf",
        "outputId": "3ad33138-5bce-4d7c-b6c0-5a0211ded3e7"
      },
      "outputs": [
        {
          "output_type": "stream",
          "name": "stderr",
          "text": [
            "[nltk_data] Downloading package stopwords to /root/nltk_data...\n",
            "[nltk_data]   Package stopwords is already up-to-date!\n"
          ]
        },
        {
          "output_type": "execute_result",
          "data": {
            "text/plain": [
              "True"
            ]
          },
          "metadata": {},
          "execution_count": 5
        }
      ],
      "source": [
        "import nltk\n",
        "nltk.download('stopwords')"
      ]
    },
    {
      "cell_type": "code",
      "execution_count": 6,
      "metadata": {
        "colab": {
          "base_uri": "https://localhost:8080/"
        },
        "id": "i3iiFsOYrfQp",
        "outputId": "286e029a-c054-4b52-ac10-5e6ddb94e45d"
      },
      "outputs": [
        {
          "output_type": "stream",
          "name": "stdout",
          "text": [
            "Collecting bert-extractive-summarizer\n",
            "  Downloading bert_extractive_summarizer-0.10.1-py3-none-any.whl (25 kB)\n",
            "Collecting transformers (from bert-extractive-summarizer)\n",
            "  Downloading transformers-4.30.2-py3-none-any.whl (7.2 MB)\n",
            "\u001b[2K     \u001b[90m━━━━━━━━━━━━━━━━━━━━━━━━━━━━━━━━━━━━━━━━\u001b[0m \u001b[32m7.2/7.2 MB\u001b[0m \u001b[31m55.7 MB/s\u001b[0m eta \u001b[36m0:00:00\u001b[0m\n",
            "\u001b[?25hRequirement already satisfied: scikit-learn in /usr/local/lib/python3.10/dist-packages (from bert-extractive-summarizer) (1.2.2)\n",
            "Requirement already satisfied: spacy in /usr/local/lib/python3.10/dist-packages (from bert-extractive-summarizer) (3.5.3)\n",
            "Requirement already satisfied: numpy>=1.17.3 in /usr/local/lib/python3.10/dist-packages (from scikit-learn->bert-extractive-summarizer) (1.22.4)\n",
            "Requirement already satisfied: scipy>=1.3.2 in /usr/local/lib/python3.10/dist-packages (from scikit-learn->bert-extractive-summarizer) (1.10.1)\n",
            "Requirement already satisfied: joblib>=1.1.1 in /usr/local/lib/python3.10/dist-packages (from scikit-learn->bert-extractive-summarizer) (1.2.0)\n",
            "Requirement already satisfied: threadpoolctl>=2.0.0 in /usr/local/lib/python3.10/dist-packages (from scikit-learn->bert-extractive-summarizer) (3.1.0)\n",
            "Requirement already satisfied: spacy-legacy<3.1.0,>=3.0.11 in /usr/local/lib/python3.10/dist-packages (from spacy->bert-extractive-summarizer) (3.0.12)\n",
            "Requirement already satisfied: spacy-loggers<2.0.0,>=1.0.0 in /usr/local/lib/python3.10/dist-packages (from spacy->bert-extractive-summarizer) (1.0.4)\n",
            "Requirement already satisfied: murmurhash<1.1.0,>=0.28.0 in /usr/local/lib/python3.10/dist-packages (from spacy->bert-extractive-summarizer) (1.0.9)\n",
            "Requirement already satisfied: cymem<2.1.0,>=2.0.2 in /usr/local/lib/python3.10/dist-packages (from spacy->bert-extractive-summarizer) (2.0.7)\n",
            "Requirement already satisfied: preshed<3.1.0,>=3.0.2 in /usr/local/lib/python3.10/dist-packages (from spacy->bert-extractive-summarizer) (3.0.8)\n",
            "Requirement already satisfied: thinc<8.2.0,>=8.1.8 in /usr/local/lib/python3.10/dist-packages (from spacy->bert-extractive-summarizer) (8.1.10)\n",
            "Requirement already satisfied: wasabi<1.2.0,>=0.9.1 in /usr/local/lib/python3.10/dist-packages (from spacy->bert-extractive-summarizer) (1.1.2)\n",
            "Requirement already satisfied: srsly<3.0.0,>=2.4.3 in /usr/local/lib/python3.10/dist-packages (from spacy->bert-extractive-summarizer) (2.4.6)\n",
            "Requirement already satisfied: catalogue<2.1.0,>=2.0.6 in /usr/local/lib/python3.10/dist-packages (from spacy->bert-extractive-summarizer) (2.0.8)\n",
            "Requirement already satisfied: typer<0.8.0,>=0.3.0 in /usr/local/lib/python3.10/dist-packages (from spacy->bert-extractive-summarizer) (0.7.0)\n",
            "Requirement already satisfied: pathy>=0.10.0 in /usr/local/lib/python3.10/dist-packages (from spacy->bert-extractive-summarizer) (0.10.2)\n",
            "Requirement already satisfied: smart-open<7.0.0,>=5.2.1 in /usr/local/lib/python3.10/dist-packages (from spacy->bert-extractive-summarizer) (6.3.0)\n",
            "Requirement already satisfied: tqdm<5.0.0,>=4.38.0 in /usr/local/lib/python3.10/dist-packages (from spacy->bert-extractive-summarizer) (4.65.0)\n",
            "Requirement already satisfied: requests<3.0.0,>=2.13.0 in /usr/local/lib/python3.10/dist-packages (from spacy->bert-extractive-summarizer) (2.27.1)\n",
            "Requirement already satisfied: pydantic!=1.8,!=1.8.1,<1.11.0,>=1.7.4 in /usr/local/lib/python3.10/dist-packages (from spacy->bert-extractive-summarizer) (1.10.9)\n",
            "Requirement already satisfied: jinja2 in /usr/local/lib/python3.10/dist-packages (from spacy->bert-extractive-summarizer) (3.1.2)\n",
            "Requirement already satisfied: setuptools in /usr/local/lib/python3.10/dist-packages (from spacy->bert-extractive-summarizer) (67.7.2)\n",
            "Requirement already satisfied: packaging>=20.0 in /usr/local/lib/python3.10/dist-packages (from spacy->bert-extractive-summarizer) (23.1)\n",
            "Requirement already satisfied: langcodes<4.0.0,>=3.2.0 in /usr/local/lib/python3.10/dist-packages (from spacy->bert-extractive-summarizer) (3.3.0)\n",
            "Requirement already satisfied: filelock in /usr/local/lib/python3.10/dist-packages (from transformers->bert-extractive-summarizer) (3.12.2)\n",
            "Collecting huggingface-hub<1.0,>=0.14.1 (from transformers->bert-extractive-summarizer)\n",
            "  Downloading huggingface_hub-0.16.4-py3-none-any.whl (268 kB)\n",
            "\u001b[2K     \u001b[90m━━━━━━━━━━━━━━━━━━━━━━━━━━━━━━━━━━━━━━\u001b[0m \u001b[32m268.8/268.8 kB\u001b[0m \u001b[31m23.9 MB/s\u001b[0m eta \u001b[36m0:00:00\u001b[0m\n",
            "\u001b[?25hRequirement already satisfied: pyyaml>=5.1 in /usr/local/lib/python3.10/dist-packages (from transformers->bert-extractive-summarizer) (6.0)\n",
            "Requirement already satisfied: regex!=2019.12.17 in /usr/local/lib/python3.10/dist-packages (from transformers->bert-extractive-summarizer) (2022.10.31)\n",
            "Collecting tokenizers!=0.11.3,<0.14,>=0.11.1 (from transformers->bert-extractive-summarizer)\n",
            "  Downloading tokenizers-0.13.3-cp310-cp310-manylinux_2_17_x86_64.manylinux2014_x86_64.whl (7.8 MB)\n",
            "\u001b[2K     \u001b[90m━━━━━━━━━━━━━━━━━━━━━━━━━━━━━━━━━━━━━━━━\u001b[0m \u001b[32m7.8/7.8 MB\u001b[0m \u001b[31m76.4 MB/s\u001b[0m eta \u001b[36m0:00:00\u001b[0m\n",
            "\u001b[?25hCollecting safetensors>=0.3.1 (from transformers->bert-extractive-summarizer)\n",
            "  Downloading safetensors-0.3.1-cp310-cp310-manylinux_2_17_x86_64.manylinux2014_x86_64.whl (1.3 MB)\n",
            "\u001b[2K     \u001b[90m━━━━━━━━━━━━━━━━━━━━━━━━━━━━━━━━━━━━━━━━\u001b[0m \u001b[32m1.3/1.3 MB\u001b[0m \u001b[31m65.3 MB/s\u001b[0m eta \u001b[36m0:00:00\u001b[0m\n",
            "\u001b[?25hRequirement already satisfied: fsspec in /usr/local/lib/python3.10/dist-packages (from huggingface-hub<1.0,>=0.14.1->transformers->bert-extractive-summarizer) (2023.6.0)\n",
            "Requirement already satisfied: typing-extensions>=3.7.4.3 in /usr/local/lib/python3.10/dist-packages (from huggingface-hub<1.0,>=0.14.1->transformers->bert-extractive-summarizer) (4.6.3)\n",
            "Requirement already satisfied: urllib3<1.27,>=1.21.1 in /usr/local/lib/python3.10/dist-packages (from requests<3.0.0,>=2.13.0->spacy->bert-extractive-summarizer) (1.26.16)\n",
            "Requirement already satisfied: certifi>=2017.4.17 in /usr/local/lib/python3.10/dist-packages (from requests<3.0.0,>=2.13.0->spacy->bert-extractive-summarizer) (2023.5.7)\n",
            "Requirement already satisfied: charset-normalizer~=2.0.0 in /usr/local/lib/python3.10/dist-packages (from requests<3.0.0,>=2.13.0->spacy->bert-extractive-summarizer) (2.0.12)\n",
            "Requirement already satisfied: idna<4,>=2.5 in /usr/local/lib/python3.10/dist-packages (from requests<3.0.0,>=2.13.0->spacy->bert-extractive-summarizer) (3.4)\n",
            "Requirement already satisfied: blis<0.8.0,>=0.7.8 in /usr/local/lib/python3.10/dist-packages (from thinc<8.2.0,>=8.1.8->spacy->bert-extractive-summarizer) (0.7.9)\n",
            "Requirement already satisfied: confection<1.0.0,>=0.0.1 in /usr/local/lib/python3.10/dist-packages (from thinc<8.2.0,>=8.1.8->spacy->bert-extractive-summarizer) (0.0.4)\n",
            "Requirement already satisfied: click<9.0.0,>=7.1.1 in /usr/local/lib/python3.10/dist-packages (from typer<0.8.0,>=0.3.0->spacy->bert-extractive-summarizer) (8.1.3)\n",
            "Requirement already satisfied: MarkupSafe>=2.0 in /usr/local/lib/python3.10/dist-packages (from jinja2->spacy->bert-extractive-summarizer) (2.1.3)\n",
            "Installing collected packages: tokenizers, safetensors, huggingface-hub, transformers, bert-extractive-summarizer\n",
            "Successfully installed bert-extractive-summarizer-0.10.1 huggingface-hub-0.16.4 safetensors-0.3.1 tokenizers-0.13.3 transformers-4.30.2\n"
          ]
        }
      ],
      "source": [
        "pip install bert-extractive-summarizer"
      ]
    },
    {
      "cell_type": "code",
      "source": [
        "pip install textwrap3"
      ],
      "metadata": {
        "colab": {
          "base_uri": "https://localhost:8080/"
        },
        "id": "5CIiLaF-EF_K",
        "outputId": "0f631d70-0f02-48bf-d45c-ce234104c62e"
      },
      "execution_count": 7,
      "outputs": [
        {
          "output_type": "stream",
          "name": "stdout",
          "text": [
            "Collecting textwrap3\n",
            "  Downloading textwrap3-0.9.2-py2.py3-none-any.whl (12 kB)\n",
            "Installing collected packages: textwrap3\n",
            "Successfully installed textwrap3-0.9.2\n"
          ]
        }
      ]
    },
    {
      "cell_type": "code",
      "source": [
        "from textwrap3 import wrap"
      ],
      "metadata": {
        "id": "Z4RB8QayEImi"
      },
      "execution_count": 8,
      "outputs": []
    },
    {
      "cell_type": "code",
      "execution_count": 65,
      "metadata": {
        "colab": {
          "base_uri": "https://localhost:8080/"
        },
        "id": "JN5gA1lir6wS",
        "outputId": "ef74a617-2018-4569-8dbc-81c6fda83afd"
      },
      "outputs": [
        {
          "output_type": "stream",
          "name": "stderr",
          "text": [
            "Some weights of the model checkpoint at bert-large-uncased were not used when initializing BertModel: ['cls.predictions.transform.LayerNorm.weight', 'cls.predictions.transform.LayerNorm.bias', 'cls.predictions.transform.dense.bias', 'cls.seq_relationship.bias', 'cls.predictions.bias', 'cls.predictions.transform.dense.weight', 'cls.seq_relationship.weight']\n",
            "- This IS expected if you are initializing BertModel from the checkpoint of a model trained on another task or with another architecture (e.g. initializing a BertForSequenceClassification model from a BertForPreTraining model).\n",
            "- This IS NOT expected if you are initializing BertModel from the checkpoint of a model that you expect to be exactly identical (initializing a BertForSequenceClassification model from a BertForSequenceClassification model).\n",
            "/usr/local/lib/python3.10/dist-packages/sklearn/cluster/_kmeans.py:870: FutureWarning: The default value of `n_init` will change from 10 to 'auto' in 1.4. Set the value of `n_init` explicitly to suppress the warning\n",
            "  warnings.warn(\n"
          ]
        }
      ],
      "source": [
        "#summariser method 1\n",
        "from summarizer import Summarizer\n",
        "model = Summarizer()\n",
        "result = model(article_text, min_length=60, max_length = 500 , ratio = 0.5)\n",
        "summarized_text = ''.join(result)"
      ]
    },
    {
      "cell_type": "code",
      "source": [
        "print (\"Original Text - \")\n",
        "for i  in wrap(article_text, 125):\n",
        "  print (i)\n",
        "print (\"\\n\")\n",
        "\n",
        "print (\"Summarized Text - \")\n",
        "for i  in wrap(summarized_text, 125):\n",
        "  print (i)\n",
        "print (\"\\n\")"
      ],
      "metadata": {
        "colab": {
          "base_uri": "https://localhost:8080/"
        },
        "id": "g515q6d2FG7_",
        "outputId": "aa28fe94-45ae-4316-da1b-80c3e9c44dd7"
      },
      "execution_count": 66,
      "outputs": [
        {
          "output_type": "stream",
          "name": "stdout",
          "text": [
            "Original Text - \n",
            "Sachin Tendulkar, in full Sachin Ramesh Tendulkar, (born April 24, 1973, Bombay [Mumbai], India), Indian professional cricket\n",
            "player, considered by many to be one of the greatest batsmen of all time. In 2012 he became the first cricketer to score 100\n",
            "centuries (100 runs in a single innings) in international play.  Tendulkar was given his first bat when he was 11 years of\n",
            "age. As a 14-year-old, he used it to score 329 out of a world-record stand of 664 in a school match. A year later he scored a\n",
            "century on his first-class debut for Bombay (Mumbai), and at age 16 years 205 days he became India’s youngest Test\n",
            "(international) cricketer, making his debut against Pakistan in Karachi in November 1989. When he was 18 he scored two\n",
            "centuries in Australia (148 in Sydney and 114 in Perth), and in 1994 he scored 179 against the West Indies. In August 1996,\n",
            "at age 23, Tendulkar was made captain of his country’s team. Although India was defeated in the semifinals of the 1996 World\n",
            "Cup, Tendulkar emerged as the tournament’s top run scorer, with 523 runs. In 1998 he was chosen for the Rajiv Gandhi Khel\n",
            "Ratna Award, the highest award given to an Indian athlete, for his outstanding performance in the 1997–98 season. India was\n",
            "defeated by Australia in the 1999 World Cup, failing to advance past the round of six, and was soundly defeated by both\n",
            "Australia and South Africa in series later that year. In the 2003 World Cup, however, Tendulkar helped his team advance as\n",
            "far as the finals. Though India was again defeated by Australia, Tendulkar, who averaged 60.2, was named the man of the\n",
            "tournament Tendulkar made history in December 2005 when he scored his record-breaking 35th century in Test play against Sri\n",
            "Lanka. The feat was accomplished in a total of 125 Tests and allowed Tendulkar to surpass the prolific Indian run scorer\n",
            "Sunil Gavaskar. In June 2007 Tendulkar reached another major milestone when he became the first player to record 15,000 runs\n",
            "in one-day international (ODI) play, and in November 2011 he became the first batsman to score 15,000 runs in Test play. One\n",
            "month later he scored a historic “double century” in a contest against South Africa, becoming the first man in history to\n",
            "record 200 runs in a single innings of ODI play. He was named the 2010 International Cricket Council (ICC) Cricketer of the\n",
            "Year. In an ODI match against Bangladesh in March 2012, Tendulkar scored his record-setting 100th international century—which\n",
            "included both Test (51 centuries) and ODI (49 centuries) play. He retired from ODI cricket later that year, and in 2013 he\n",
            "ended a six-year stint with the Indian Premier League (as a member of the Mumbai Indians) and retired from Test cricket,\n",
            "ending his playing days with records for the most career international runs (34,357) and Test runs (15,921). Throughout his\n",
            "long career Tendulkar was consistently ranked among the game’s best batsmen. He was often likened to Australia’s Don Bradman\n",
            "in his single-minded dedication to scoring runs and the certainty of his strokeplay off both front and back foot.  In 2012\n",
            "Tendulkar became a member of the Rajya Sabha, the upper chamber of the Indian parliament—the first active athlete to join\n",
            "that body; he was nominated to the post, and his term ended in 2018. In 2014 he became the first sportsman to receive India’s\n",
            "highest civilian honour, the Bharat Ratna. Tendulkar was inducted into the International Cricket Council Hall of Fame in\n",
            "2019.\n",
            "\n",
            "\n",
            "Summarized Text - \n",
            "Sachin Tendulkar, in full Sachin Ramesh Tendulkar, (born April 24, 1973, Bombay [Mumbai], India), Indian professional cricket\n",
            "player, considered by many to be one of the greatest batsmen of all time. Tendulkar was given his first bat when he was 11\n",
            "years of age. As a 14-year-old, he used it to score 329 out of a world-record stand of 664 in a school match. In August 1996,\n",
            "at age 23, Tendulkar was made captain of his country’s team. In 1998 he was chosen for the Rajiv Gandhi Khel Ratna Award, the\n",
            "highest award given to an Indian athlete, for his outstanding performance in the 1997–98 season. Though India was again\n",
            "defeated by Australia, Tendulkar, who averaged 60.2, was named the man of the tournament Tendulkar made history in December\n",
            "2005 when he scored his record-breaking 35th century in Test play against Sri Lanka. The feat was accomplished in a total of\n",
            "125 Tests and allowed Tendulkar to surpass the prolific Indian run scorer Sunil Gavaskar. One month later he scored a\n",
            "historic “double century” in a contest against South Africa, becoming the first man in history to record 200 runs in a single\n",
            "innings of ODI play. He was named the 2010 International Cricket Council (ICC) Cricketer of the Year. In an ODI match against\n",
            "Bangladesh in March 2012, Tendulkar scored his record-setting 100th international century—which included both Test (51\n",
            "centuries) and ODI (49 centuries) play. He retired from ODI cricket later that year, and in 2013 he ended a six-year stint\n",
            "with the Indian Premier League (as a member of the Mumbai Indians) and retired from Test cricket, ending his playing days\n",
            "with records for the most career international runs (34,357) and Test runs (15,921). Tendulkar was inducted into the\n",
            "International Cricket Council Hall of Fame in 2019.\n",
            "\n",
            "\n"
          ]
        }
      ]
    },
    {
      "cell_type": "code",
      "source": [
        "len(article_text)"
      ],
      "metadata": {
        "colab": {
          "base_uri": "https://localhost:8080/"
        },
        "id": "0NYg_mwMwOkr",
        "outputId": "ef23af55-e66c-414d-fe8f-8a2736615a88"
      },
      "execution_count": 63,
      "outputs": [
        {
          "output_type": "execute_result",
          "data": {
            "text/plain": [
              "3449"
            ]
          },
          "metadata": {},
          "execution_count": 63
        }
      ]
    },
    {
      "cell_type": "code",
      "source": [
        "# Summarizer Method 2"
      ],
      "metadata": {
        "id": "1ZxGn9MDJekG"
      },
      "execution_count": 12,
      "outputs": []
    },
    {
      "cell_type": "code",
      "source": [
        "from transformers import T5ForConditionalGeneration, T5Tokenizer"
      ],
      "metadata": {
        "id": "dUSgjlpUJh3j"
      },
      "execution_count": 13,
      "outputs": []
    },
    {
      "cell_type": "code",
      "source": [
        "def T5_summarizer(text):\n",
        "  model_name = 't5-large'\n",
        "  tokenizer = T5Tokenizer.from_pretrained(model_name,max_length = len(article_text),truncation = True)\n",
        "  model = T5ForConditionalGeneration.from_pretrained(model_name)\n",
        "  input = tokenizer.encode(\"Summarize :\" + article_text, return_tensors = 'pt')\n",
        "  output = model.generate(input,max_length = len(article_text)/3,num_beams = 4, early_stopping = True,)\n",
        "  T5_summary = tokenizer.decode(output[0],skip_special_tokens = True )\n",
        "  return T5_summary"
      ],
      "metadata": {
        "id": "VbqBJyWiLWfe"
      },
      "execution_count": 15,
      "outputs": []
    },
    {
      "cell_type": "code",
      "source": [
        "T5_summary = T5_summarizer(article_text)\n",
        "print(\"Original Text:\")\n",
        "for i in wrap(article_text,125):\n",
        "  print(i)\n",
        "print(\"\\n\")\n",
        "print(\"Summarized Text:\")\n",
        "for i in wrap(T5_summary,125):\n",
        "  print(i)\n",
        "print(\"\\n\")"
      ],
      "metadata": {
        "colab": {
          "base_uri": "https://localhost:8080/"
        },
        "id": "f-pw1DA8N0J7",
        "outputId": "fdb68416-77b4-4778-f32d-5046105f5185"
      },
      "execution_count": 64,
      "outputs": [
        {
          "output_type": "stream",
          "name": "stderr",
          "text": [
            "/usr/local/lib/python3.10/dist-packages/transformers/models/t5/tokenization_t5.py:163: FutureWarning: This tokenizer was incorrectly instantiated with a model max length of 512 which will be corrected in Transformers v5.\n",
            "For now, this behavior is kept to avoid breaking backwards compatibility when padding/encoding with `truncation is True`.\n",
            "- Be aware that you SHOULD NOT rely on t5-large automatically truncating your input to 512 when padding/encoding.\n",
            "- If you want to encode/pad to sequences longer than 512 you can either instantiate this tokenizer with `model_max_length` or pass `max_length` when encoding/padding.\n",
            "- To avoid this warning, please instantiate this tokenizer with `model_max_length` set to your preferred value.\n",
            "  warnings.warn(\n",
            "Token indices sequence length is longer than the specified maximum sequence length for this model (860 > 512). Running this sequence through the model will result in indexing errors\n"
          ]
        },
        {
          "output_type": "stream",
          "name": "stdout",
          "text": [
            "Original Text:\n",
            "Sachin Tendulkar, in full Sachin Ramesh Tendulkar, (born April 24, 1973, Bombay [Mumbai], India), Indian professional cricket\n",
            "player, considered by many to be one of the greatest batsmen of all time. In 2012 he became the first cricketer to score 100\n",
            "centuries (100 runs in a single innings) in international play.  Tendulkar was given his first bat when he was 11 years of\n",
            "age. As a 14-year-old, he used it to score 329 out of a world-record stand of 664 in a school match. A year later he scored a\n",
            "century on his first-class debut for Bombay (Mumbai), and at age 16 years 205 days he became India’s youngest Test\n",
            "(international) cricketer, making his debut against Pakistan in Karachi in November 1989. When he was 18 he scored two\n",
            "centuries in Australia (148 in Sydney and 114 in Perth), and in 1994 he scored 179 against the West Indies. In August 1996,\n",
            "at age 23, Tendulkar was made captain of his country’s team. Although India was defeated in the semifinals of the 1996 World\n",
            "Cup, Tendulkar emerged as the tournament’s top run scorer, with 523 runs. In 1998 he was chosen for the Rajiv Gandhi Khel\n",
            "Ratna Award, the highest award given to an Indian athlete, for his outstanding performance in the 1997–98 season. India was\n",
            "defeated by Australia in the 1999 World Cup, failing to advance past the round of six, and was soundly defeated by both\n",
            "Australia and South Africa in series later that year. In the 2003 World Cup, however, Tendulkar helped his team advance as\n",
            "far as the finals. Though India was again defeated by Australia, Tendulkar, who averaged 60.2, was named the man of the\n",
            "tournament Tendulkar made history in December 2005 when he scored his record-breaking 35th century in Test play against Sri\n",
            "Lanka. The feat was accomplished in a total of 125 Tests and allowed Tendulkar to surpass the prolific Indian run scorer\n",
            "Sunil Gavaskar. In June 2007 Tendulkar reached another major milestone when he became the first player to record 15,000 runs\n",
            "in one-day international (ODI) play, and in November 2011 he became the first batsman to score 15,000 runs in Test play. One\n",
            "month later he scored a historic “double century” in a contest against South Africa, becoming the first man in history to\n",
            "record 200 runs in a single innings of ODI play. He was named the 2010 International Cricket Council (ICC) Cricketer of the\n",
            "Year. In an ODI match against Bangladesh in March 2012, Tendulkar scored his record-setting 100th international century—which\n",
            "included both Test (51 centuries) and ODI (49 centuries) play. He retired from ODI cricket later that year, and in 2013 he\n",
            "ended a six-year stint with the Indian Premier League (as a member of the Mumbai Indians) and retired from Test cricket,\n",
            "ending his playing days with records for the most career international runs (34,357) and Test runs (15,921). Throughout his\n",
            "long career Tendulkar was consistently ranked among the game’s best batsmen. He was often likened to Australia’s Don Bradman\n",
            "in his single-minded dedication to scoring runs and the certainty of his strokeplay off both front and back foot.  In 2012\n",
            "Tendulkar became a member of the Rajya Sabha, the upper chamber of the Indian parliament—the first active athlete to join\n",
            "that body; he was nominated to the post, and his term ended in 2018. In 2014 he became the first sportsman to receive India’s\n",
            "highest civilian honour, the Bharat Ratna. Tendulkar was inducted into the International Cricket Council Hall of Fame in\n",
            "2019.\n",
            "\n",
            "\n",
            "Summarized Text:\n",
            "and his term ended in 2018. In 2012 he became a member of the Indian parliament, and his term ended in 2018. In 2019 he was\n",
            "inducted into the Indian Cricket Council Hall of Fame. In 2019 he was inducted into the Indian Cricket Council Hall of Fame.\n",
            "In 2019 he was inducted into the Indian Cricket Council Hall of Fame. In 2019 he was inducted into the Indian Cricket Council\n",
            "Hall of Fame.\n",
            "\n",
            "\n"
          ]
        }
      ]
    },
    {
      "cell_type": "code",
      "execution_count": 19,
      "metadata": {
        "colab": {
          "base_uri": "https://localhost:8080/"
        },
        "id": "kHIG9xTUpDB7",
        "outputId": "c5028fc3-1124-42bb-c4cc-6791e824e699"
      },
      "outputs": [
        {
          "output_type": "stream",
          "name": "stdout",
          "text": [
            "Collecting rake_nltk\n",
            "  Downloading rake_nltk-1.0.6-py3-none-any.whl (9.1 kB)\n",
            "Requirement already satisfied: nltk<4.0.0,>=3.6.2 in /usr/local/lib/python3.10/dist-packages (from rake_nltk) (3.8.1)\n",
            "Requirement already satisfied: click in /usr/local/lib/python3.10/dist-packages (from nltk<4.0.0,>=3.6.2->rake_nltk) (8.1.3)\n",
            "Requirement already satisfied: joblib in /usr/local/lib/python3.10/dist-packages (from nltk<4.0.0,>=3.6.2->rake_nltk) (1.2.0)\n",
            "Requirement already satisfied: regex>=2021.8.3 in /usr/local/lib/python3.10/dist-packages (from nltk<4.0.0,>=3.6.2->rake_nltk) (2022.10.31)\n",
            "Requirement already satisfied: tqdm in /usr/local/lib/python3.10/dist-packages (from nltk<4.0.0,>=3.6.2->rake_nltk) (4.65.0)\n",
            "Installing collected packages: rake_nltk\n",
            "Successfully installed rake_nltk-1.0.6\n"
          ]
        }
      ],
      "source": [
        "pip install rake_nltk"
      ]
    },
    {
      "cell_type": "code",
      "execution_count": 20,
      "metadata": {
        "id": "P-8cwoJiOypu"
      },
      "outputs": [],
      "source": [
        "from rake_nltk import Rake\n",
        "rake_class = Rake()"
      ]
    },
    {
      "cell_type": "code",
      "execution_count": 67,
      "metadata": {
        "colab": {
          "base_uri": "https://localhost:8080/"
        },
        "id": "2C8C9vZ4O10E",
        "outputId": "85f9858f-396a-4deb-8f9e-4b14135fa2ae"
      },
      "outputs": [
        {
          "output_type": "stream",
          "name": "stdout",
          "text": [
            "['mumbai ], india ), indian professional cricket player', 'prolific indian run scorer sunil gavaskar', 'historic “ double century ”', 'rajiv gandhi khel ratna award', 'setting 100th international century —', 'international cricket council hall', '2010 international cricket council', '1997 – 98 season', 'full sachin ramesh tendulkar', 'tournament tendulkar made history', 'indian premier league', 'breaking 35th century', 'career international runs', 'odi cricket later', 'highest award given', 'born april 24', 'one month later', 'record 200 runs', 'though india', 'mumbai indians', 'indian athlete', 'test cricket', 'sachin tendulkar', 'made captain', 'test runs', 'sri lanka', 'south africa', 'single innings', 'score 329', 'school match', 'playing days', 'outstanding performance', 'odi match', 'march 2012', 'greatest batsmen', 'first bat', 'december 2005', 'country ’', 'averaged 60', 'august 1996', 'allowed tendulkar', '921 ).', '51 centuries', '49 centuries', '125 tests', '11 years', 'record stand', 'odi play', 'first man', 'age 23', 'test play', 'tendulkar scored', 'year stint', 'history', 'tendulkar', 'tendulkar', 'tendulkar', 'tendulkar', 'one', 'odi', 'given', 'test', 'record', 'record', 'play', 'man', 'age', 'scored', 'scored', 'year', 'year', 'year', 'world', 'used', 'total', 'time', 'team', 'surpass', 'six', 'retired', 'retired', 'records', 'old', 'named', 'named', 'member', 'many', 'inducted', 'included', 'icc', 'feat', 'fame', 'ending', 'ended', 'defeated', 'cricketer', 'contest', 'considered', 'chosen', 'bombay', 'becoming', 'bangladesh', 'australia', 'accomplished', '664', '357', '34', '2019', '2013', '2', '1998', '1973', '15', '14']\n"
          ]
        }
      ],
      "source": [
        "rake_class.extract_keywords_from_text(summarized_text)\n",
        "keywords = rake_class.get_ranked_phrases()\n",
        "print(keywords)"
      ]
    },
    {
      "cell_type": "code",
      "execution_count": 68,
      "metadata": {
        "colab": {
          "base_uri": "https://localhost:8080/"
        },
        "id": "1Ar-cS4shx1j",
        "outputId": "1c73ec9a-590a-46ad-d7d2-d3da51d98dd5"
      },
      "outputs": [
        {
          "output_type": "stream",
          "name": "stdout",
          "text": [
            "['Sachin Tendulkar', 'full Sachin Ramesh Tendulkar', 'Bombay', '[Mumbai', 'Indian professional cricket player', 'the greatest batsmen', 'all time', 'Tendulkar', 'his first bat', 'he', '11 years', 'age', 'he', 'it', 'a world-record stand', 'a school match', 'August', 'age', 'Tendulkar', 'captain', 'his country’s team', 'he', 'the Rajiv Gandhi Khel Ratna Award', 'the highest award', 'an Indian athlete', 'his outstanding performance', 'the 1997–98 season', 'India', 'Australia', 'Tendulkar', 'who', 'the man', 'the tournament', 'Tendulkar', 'history', 'December', 'he', 'his record-breaking 35th century', 'Test play', 'Sri Lanka', 'The feat', 'a total', '125 Tests', 'Tendulkar', 'the prolific Indian run scorer Sunil Gavaskar', 'he', 'a historic “double century', 'a contest', 'South Africa', 'the first man', 'history', '200 runs', 'a single innings', 'ODI play', 'He', 'the 2010 International Cricket Council (ICC) Cricketer', 'the Year', 'an ODI match', 'Bangladesh', 'March', 'Tendulkar', 'his record-setting 100th international century', 'which', '51 centuries', '49 centuries', 'He', 'ODI cricket', 'he', 'a six-year stint', 'the Indian Premier League', 'a member', 'the Mumbai Indians', 'Test cricket', 'his playing days', 'records', 'the most career international runs', 'Test runs', 'Tendulkar', 'the International Cricket Council Hall', 'Fame']\n"
          ]
        }
      ],
      "source": [
        "import spacy\n",
        "nlp = spacy.load(\"en_core_web_sm\")\n",
        "doc = nlp(summarized_text)\n",
        "keywords = [chunk.text for chunk in doc.noun_chunks]\n",
        "print(keywords)"
      ]
    },
    {
      "cell_type": "code",
      "source": [
        "from nltk.tokenize import sent_tokenize"
      ],
      "metadata": {
        "id": "tavs-VdvlP-z"
      },
      "execution_count": 24,
      "outputs": []
    },
    {
      "cell_type": "code",
      "execution_count": 69,
      "metadata": {
        "id": "YNNIZujvk9Zc"
      },
      "outputs": [],
      "source": [
        "keyword_sentence_dictionary = {}\n",
        "def split_sentences(text):\n",
        "    sentences = sent_tokenize(text)\n",
        "    sentences = [sentence.strip() for sentence in sentences]\n",
        "    return sentences\n",
        "\n",
        "def sentence_extractor(keywords,sentences):\n",
        "  for i in keywords:\n",
        "    for j in sentences:\n",
        "      if i in j :\n",
        "        keyword_sentence_dictionary[i] = j\n",
        "  return keyword_sentence_dictionary"
      ]
    },
    {
      "cell_type": "code",
      "source": [
        "sentences = split_sentences(summarized_text)\n",
        "sentence_extraction = sentence_extractor(keywords, sentences)\n",
        "print(sentence_extraction)"
      ],
      "metadata": {
        "id": "SMKV53afXPJA",
        "outputId": "960516a3-0efd-4cbe-9d78-a9010e424daa",
        "colab": {
          "base_uri": "https://localhost:8080/"
        }
      },
      "execution_count": 70,
      "outputs": [
        {
          "output_type": "stream",
          "name": "stdout",
          "text": [
            "{'Sachin Tendulkar': 'Sachin Tendulkar, in full Sachin Ramesh Tendulkar, (born April 24, 1973, Bombay [Mumbai], India), Indian professional cricket player, considered by many to be one of the greatest batsmen of all time.', 'full Sachin Ramesh Tendulkar': 'Sachin Tendulkar, in full Sachin Ramesh Tendulkar, (born April 24, 1973, Bombay [Mumbai], India), Indian professional cricket player, considered by many to be one of the greatest batsmen of all time.', 'Bombay': 'Sachin Tendulkar, in full Sachin Ramesh Tendulkar, (born April 24, 1973, Bombay [Mumbai], India), Indian professional cricket player, considered by many to be one of the greatest batsmen of all time.', '[Mumbai': 'Sachin Tendulkar, in full Sachin Ramesh Tendulkar, (born April 24, 1973, Bombay [Mumbai], India), Indian professional cricket player, considered by many to be one of the greatest batsmen of all time.', 'Indian professional cricket player': 'Sachin Tendulkar, in full Sachin Ramesh Tendulkar, (born April 24, 1973, Bombay [Mumbai], India), Indian professional cricket player, considered by many to be one of the greatest batsmen of all time.', 'the greatest batsmen': 'Sachin Tendulkar, in full Sachin Ramesh Tendulkar, (born April 24, 1973, Bombay [Mumbai], India), Indian professional cricket player, considered by many to be one of the greatest batsmen of all time.', 'all time': 'Sachin Tendulkar, in full Sachin Ramesh Tendulkar, (born April 24, 1973, Bombay [Mumbai], India), Indian professional cricket player, considered by many to be one of the greatest batsmen of all time.', 'Tendulkar': 'Tendulkar was inducted into the International Cricket Council Hall of Fame in 2019.', 'his first bat': 'Tendulkar was given his first bat when he was 11 years of age.', 'he': 'Tendulkar was inducted into the International Cricket Council Hall of Fame in 2019.', '11 years': 'Tendulkar was given his first bat when he was 11 years of age.', 'age': 'Though India was again defeated by Australia, Tendulkar, who averaged 60.2, was named the man of the tournament\\nTendulkar made history in December 2005 when he scored his record-breaking 35th century in Test play against Sri Lanka.', 'it': 'He retired from ODI cricket later that year, and in 2013 he ended a six-year stint with the Indian Premier League (as a member of the Mumbai Indians) and retired from Test cricket, ending his playing days with records for the most career international runs (34,357) and Test runs (15,921).', 'a world-record stand': 'As a 14-year-old, he used it to score 329 out of a world-record stand of 664 in a school match.', 'a school match': 'As a 14-year-old, he used it to score 329 out of a world-record stand of 664 in a school match.', 'August': 'In August 1996, at age 23, Tendulkar was made captain of his country’s team.', 'captain': 'In August 1996, at age 23, Tendulkar was made captain of his country’s team.', 'his country’s team': 'In August 1996, at age 23, Tendulkar was made captain of his country’s team.', 'the Rajiv Gandhi Khel Ratna Award': 'In 1998 he was chosen for the Rajiv Gandhi Khel Ratna Award, the highest award given to an Indian athlete, for his outstanding performance in the 1997–98 season.', 'the highest award': 'In 1998 he was chosen for the Rajiv Gandhi Khel Ratna Award, the highest award given to an Indian athlete, for his outstanding performance in the 1997–98 season.', 'an Indian athlete': 'In 1998 he was chosen for the Rajiv Gandhi Khel Ratna Award, the highest award given to an Indian athlete, for his outstanding performance in the 1997–98 season.', 'his outstanding performance': 'In 1998 he was chosen for the Rajiv Gandhi Khel Ratna Award, the highest award given to an Indian athlete, for his outstanding performance in the 1997–98 season.', 'the 1997–98 season': 'In 1998 he was chosen for the Rajiv Gandhi Khel Ratna Award, the highest award given to an Indian athlete, for his outstanding performance in the 1997–98 season.', 'India': 'He retired from ODI cricket later that year, and in 2013 he ended a six-year stint with the Indian Premier League (as a member of the Mumbai Indians) and retired from Test cricket, ending his playing days with records for the most career international runs (34,357) and Test runs (15,921).', 'Australia': 'Though India was again defeated by Australia, Tendulkar, who averaged 60.2, was named the man of the tournament\\nTendulkar made history in December 2005 when he scored his record-breaking 35th century in Test play against Sri Lanka.', 'who': 'Though India was again defeated by Australia, Tendulkar, who averaged 60.2, was named the man of the tournament\\nTendulkar made history in December 2005 when he scored his record-breaking 35th century in Test play against Sri Lanka.', 'the man': 'Though India was again defeated by Australia, Tendulkar, who averaged 60.2, was named the man of the tournament\\nTendulkar made history in December 2005 when he scored his record-breaking 35th century in Test play against Sri Lanka.', 'the tournament': 'Though India was again defeated by Australia, Tendulkar, who averaged 60.2, was named the man of the tournament\\nTendulkar made history in December 2005 when he scored his record-breaking 35th century in Test play against Sri Lanka.', 'history': 'One month later he scored a historic “double century” in a contest against South Africa, becoming the first man in history to record 200 runs in a single innings of ODI play.', 'December': 'Though India was again defeated by Australia, Tendulkar, who averaged 60.2, was named the man of the tournament\\nTendulkar made history in December 2005 when he scored his record-breaking 35th century in Test play against Sri Lanka.', 'his record-breaking 35th century': 'Though India was again defeated by Australia, Tendulkar, who averaged 60.2, was named the man of the tournament\\nTendulkar made history in December 2005 when he scored his record-breaking 35th century in Test play against Sri Lanka.', 'Test play': 'Though India was again defeated by Australia, Tendulkar, who averaged 60.2, was named the man of the tournament\\nTendulkar made history in December 2005 when he scored his record-breaking 35th century in Test play against Sri Lanka.', 'Sri Lanka': 'Though India was again defeated by Australia, Tendulkar, who averaged 60.2, was named the man of the tournament\\nTendulkar made history in December 2005 when he scored his record-breaking 35th century in Test play against Sri Lanka.', 'The feat': 'The feat was accomplished in a total of 125 Tests and allowed Tendulkar to surpass the prolific Indian run scorer Sunil Gavaskar.', 'a total': 'The feat was accomplished in a total of 125 Tests and allowed Tendulkar to surpass the prolific Indian run scorer Sunil Gavaskar.', '125 Tests': 'The feat was accomplished in a total of 125 Tests and allowed Tendulkar to surpass the prolific Indian run scorer Sunil Gavaskar.', 'the prolific Indian run scorer Sunil Gavaskar': 'The feat was accomplished in a total of 125 Tests and allowed Tendulkar to surpass the prolific Indian run scorer Sunil Gavaskar.', 'a historic “double century': 'One month later he scored a historic “double century” in a contest against South Africa, becoming the first man in history to record 200 runs in a single innings of ODI play.', 'a contest': 'One month later he scored a historic “double century” in a contest against South Africa, becoming the first man in history to record 200 runs in a single innings of ODI play.', 'South Africa': 'One month later he scored a historic “double century” in a contest against South Africa, becoming the first man in history to record 200 runs in a single innings of ODI play.', 'the first man': 'One month later he scored a historic “double century” in a contest against South Africa, becoming the first man in history to record 200 runs in a single innings of ODI play.', '200 runs': 'One month later he scored a historic “double century” in a contest against South Africa, becoming the first man in history to record 200 runs in a single innings of ODI play.', 'a single innings': 'One month later he scored a historic “double century” in a contest against South Africa, becoming the first man in history to record 200 runs in a single innings of ODI play.', 'ODI play': 'One month later he scored a historic “double century” in a contest against South Africa, becoming the first man in history to record 200 runs in a single innings of ODI play.', 'He': 'He retired from ODI cricket later that year, and in 2013 he ended a six-year stint with the Indian Premier League (as a member of the Mumbai Indians) and retired from Test cricket, ending his playing days with records for the most career international runs (34,357) and Test runs (15,921).', 'the 2010 International Cricket Council (ICC) Cricketer': 'He was named the 2010 International Cricket Council (ICC) Cricketer of the Year.', 'the Year': 'He was named the 2010 International Cricket Council (ICC) Cricketer of the Year.', 'an ODI match': 'In an ODI match against Bangladesh in March 2012, Tendulkar scored his record-setting 100th international century—which included both Test (51 centuries) and ODI (49 centuries) play.', 'Bangladesh': 'In an ODI match against Bangladesh in March 2012, Tendulkar scored his record-setting 100th international century—which included both Test (51 centuries) and ODI (49 centuries) play.', 'March': 'In an ODI match against Bangladesh in March 2012, Tendulkar scored his record-setting 100th international century—which included both Test (51 centuries) and ODI (49 centuries) play.', 'his record-setting 100th international century': 'In an ODI match against Bangladesh in March 2012, Tendulkar scored his record-setting 100th international century—which included both Test (51 centuries) and ODI (49 centuries) play.', 'which': 'In an ODI match against Bangladesh in March 2012, Tendulkar scored his record-setting 100th international century—which included both Test (51 centuries) and ODI (49 centuries) play.', '51 centuries': 'In an ODI match against Bangladesh in March 2012, Tendulkar scored his record-setting 100th international century—which included both Test (51 centuries) and ODI (49 centuries) play.', '49 centuries': 'In an ODI match against Bangladesh in March 2012, Tendulkar scored his record-setting 100th international century—which included both Test (51 centuries) and ODI (49 centuries) play.', 'ODI cricket': 'He retired from ODI cricket later that year, and in 2013 he ended a six-year stint with the Indian Premier League (as a member of the Mumbai Indians) and retired from Test cricket, ending his playing days with records for the most career international runs (34,357) and Test runs (15,921).', 'a six-year stint': 'He retired from ODI cricket later that year, and in 2013 he ended a six-year stint with the Indian Premier League (as a member of the Mumbai Indians) and retired from Test cricket, ending his playing days with records for the most career international runs (34,357) and Test runs (15,921).', 'the Indian Premier League': 'He retired from ODI cricket later that year, and in 2013 he ended a six-year stint with the Indian Premier League (as a member of the Mumbai Indians) and retired from Test cricket, ending his playing days with records for the most career international runs (34,357) and Test runs (15,921).', 'a member': 'He retired from ODI cricket later that year, and in 2013 he ended a six-year stint with the Indian Premier League (as a member of the Mumbai Indians) and retired from Test cricket, ending his playing days with records for the most career international runs (34,357) and Test runs (15,921).', 'the Mumbai Indians': 'He retired from ODI cricket later that year, and in 2013 he ended a six-year stint with the Indian Premier League (as a member of the Mumbai Indians) and retired from Test cricket, ending his playing days with records for the most career international runs (34,357) and Test runs (15,921).', 'Test cricket': 'He retired from ODI cricket later that year, and in 2013 he ended a six-year stint with the Indian Premier League (as a member of the Mumbai Indians) and retired from Test cricket, ending his playing days with records for the most career international runs (34,357) and Test runs (15,921).', 'his playing days': 'He retired from ODI cricket later that year, and in 2013 he ended a six-year stint with the Indian Premier League (as a member of the Mumbai Indians) and retired from Test cricket, ending his playing days with records for the most career international runs (34,357) and Test runs (15,921).', 'records': 'He retired from ODI cricket later that year, and in 2013 he ended a six-year stint with the Indian Premier League (as a member of the Mumbai Indians) and retired from Test cricket, ending his playing days with records for the most career international runs (34,357) and Test runs (15,921).', 'the most career international runs': 'He retired from ODI cricket later that year, and in 2013 he ended a six-year stint with the Indian Premier League (as a member of the Mumbai Indians) and retired from Test cricket, ending his playing days with records for the most career international runs (34,357) and Test runs (15,921).', 'Test runs': 'He retired from ODI cricket later that year, and in 2013 he ended a six-year stint with the Indian Premier League (as a member of the Mumbai Indians) and retired from Test cricket, ending his playing days with records for the most career international runs (34,357) and Test runs (15,921).', 'the International Cricket Council Hall': 'Tendulkar was inducted into the International Cricket Council Hall of Fame in 2019.', 'Fame': 'Tendulkar was inducted into the International Cricket Council Hall of Fame in 2019.'}\n"
          ]
        }
      ]
    },
    {
      "cell_type": "code",
      "execution_count": null,
      "metadata": {
        "colab": {
          "base_uri": "https://localhost:8080/"
        },
        "id": "-gvZCu5VHOyo",
        "outputId": "0751cbe1-aab6-40c4-ce0a-88b1055bbace"
      },
      "outputs": [
        {
          "output_type": "stream",
          "name": "stdout",
          "text": [
            "Looking in indexes: https://pypi.org/simple, https://us-python.pkg.dev/colab-wheels/public/simple/\n",
            "Requirement already satisfied: transformers in /usr/local/lib/python3.10/dist-packages (4.29.1)\n",
            "Requirement already satisfied: filelock in /usr/local/lib/python3.10/dist-packages (from transformers) (3.12.0)\n",
            "Requirement already satisfied: huggingface-hub<1.0,>=0.14.1 in /usr/local/lib/python3.10/dist-packages (from transformers) (0.14.1)\n",
            "Requirement already satisfied: numpy>=1.17 in /usr/local/lib/python3.10/dist-packages (from transformers) (1.22.4)\n",
            "Requirement already satisfied: packaging>=20.0 in /usr/local/lib/python3.10/dist-packages (from transformers) (23.1)\n",
            "Requirement already satisfied: pyyaml>=5.1 in /usr/local/lib/python3.10/dist-packages (from transformers) (6.0)\n",
            "Requirement already satisfied: regex!=2019.12.17 in /usr/local/lib/python3.10/dist-packages (from transformers) (2022.10.31)\n",
            "Requirement already satisfied: requests in /usr/local/lib/python3.10/dist-packages (from transformers) (2.27.1)\n",
            "Requirement already satisfied: tokenizers!=0.11.3,<0.14,>=0.11.1 in /usr/local/lib/python3.10/dist-packages (from transformers) (0.13.3)\n",
            "Requirement already satisfied: tqdm>=4.27 in /usr/local/lib/python3.10/dist-packages (from transformers) (4.65.0)\n",
            "Requirement already satisfied: fsspec in /usr/local/lib/python3.10/dist-packages (from huggingface-hub<1.0,>=0.14.1->transformers) (2023.4.0)\n",
            "Requirement already satisfied: typing-extensions>=3.7.4.3 in /usr/local/lib/python3.10/dist-packages (from huggingface-hub<1.0,>=0.14.1->transformers) (4.5.0)\n",
            "Requirement already satisfied: urllib3<1.27,>=1.21.1 in /usr/local/lib/python3.10/dist-packages (from requests->transformers) (1.26.15)\n",
            "Requirement already satisfied: certifi>=2017.4.17 in /usr/local/lib/python3.10/dist-packages (from requests->transformers) (2022.12.7)\n",
            "Requirement already satisfied: charset-normalizer~=2.0.0 in /usr/local/lib/python3.10/dist-packages (from requests->transformers) (2.0.12)\n",
            "Requirement already satisfied: idna<4,>=2.5 in /usr/local/lib/python3.10/dist-packages (from requests->transformers) (3.4)\n",
            "Looking in indexes: https://pypi.org/simple, https://us-python.pkg.dev/colab-wheels/public/simple/\n",
            "Requirement already satisfied: sentencepiece in /usr/local/lib/python3.10/dist-packages (0.1.99)\n"
          ]
        }
      ],
      "source": [
        "!pip install --upgrade transformers\n",
        "!pip install --upgrade sentencepiece"
      ]
    },
    {
      "cell_type": "code",
      "execution_count": 50,
      "metadata": {
        "id": "LhTjJ2NwHSh1"
      },
      "outputs": [],
      "source": [
        "from transformers import T5ForConditionalGeneration,T5Tokenizer"
      ]
    },
    {
      "cell_type": "code",
      "execution_count": 51,
      "metadata": {
        "colab": {
          "base_uri": "https://localhost:8080/",
          "height": 81,
          "referenced_widgets": [
            "6e0f1051761540e59248ff459483c080",
            "1f84380452974fc4aa1b45a18d9f4cd8",
            "5cf1bb96620a44f0a734dae72098ed39",
            "f2748cc74fd440d8917122c11562c3ab",
            "a6dff7b7bf934f608f0b8fa978796cac",
            "cb54ed4d26b44a6297d7abac12adc525",
            "9a96cab4008745d08000a682d1e0433c",
            "5bb863da3c294f8fa8a96e048f712223",
            "c334b6430f874919914c31b6200d3019",
            "5c229a50adbd43b38f8b842431843f96",
            "22d2b333402244678bcc5324abe3c54b",
            "3f7467961494428280df5dd3fbccb6cc",
            "5303b6e1ab524f13a04a4839675b11e5",
            "73f7b6fd7d8d429096b5b74606692f6d",
            "032d0bda83d148058c2fe92c435dfec7",
            "d5c29b3581d24fb08f95ee4bd5cbf3f4",
            "d62fc0fb62654b6e8104191732feef08",
            "906b91e7aa9545e9aa2744f7ce579ba6",
            "81adbf5047f6478da1eeb53484deb689",
            "60325340d35e4a98a1c89b6e2b05a73e",
            "632f2597a42e4a6aaa491753b63dddfc",
            "f38478acedb54356aa685f7016a469e8"
          ]
        },
        "id": "t4Jf1WMcn8Hv",
        "outputId": "5a3c2860-f027-4279-8186-dc10c2aa14f1"
      },
      "outputs": [
        {
          "output_type": "display_data",
          "data": {
            "text/plain": [
              "Downloading (…)lve/main/config.json:   0%|          | 0.00/1.21k [00:00<?, ?B/s]"
            ],
            "application/vnd.jupyter.widget-view+json": {
              "version_major": 2,
              "version_minor": 0,
              "model_id": "6e0f1051761540e59248ff459483c080"
            }
          },
          "metadata": {}
        },
        {
          "output_type": "display_data",
          "data": {
            "text/plain": [
              "Downloading pytorch_model.bin:   0%|          | 0.00/892M [00:00<?, ?B/s]"
            ],
            "application/vnd.jupyter.widget-view+json": {
              "version_major": 2,
              "version_minor": 0,
              "model_id": "3f7467961494428280df5dd3fbccb6cc"
            }
          },
          "metadata": {}
        }
      ],
      "source": [
        "question_model = T5ForConditionalGeneration.from_pretrained('ramsrigouthamg/t5_squad_v1')"
      ]
    },
    {
      "cell_type": "code",
      "execution_count": 52,
      "metadata": {
        "colab": {
          "referenced_widgets": [
            "2ab676234dc5456896e363953f7abb19",
            "c1cb536f6fb948afa3ab179e2080af76",
            "4f7412938a404ef9bdcca90f4512a711",
            "33c03c70a12f493793bddbe3373fb53a",
            "1706b3c2b7dc4a83bf44310645a5a86f",
            "f3ac673332074c8ba0d24cd8ce0926e1",
            "769416efd95b41cbaef0523e615f887f",
            "9045e3831501476faf6f4a2fc9276ec8",
            "a049be4853ca4e72a9e12a363fcc6a34",
            "ece52629b57d4061870c7651affa2ccd",
            "a9d48ca0ba3349c6824ace19f9370256",
            "fe069c9ff1674fd5918822d0fc3929c0",
            "e159d6ded851430ca724d439bea9f8c1",
            "41079f8376404eb4a7c78f159a4a3a75",
            "6d4d61a8b7ee4d259d73020c15373411",
            "51b8229f0e7c4ddabbf7a270917d47fb",
            "7b76df789c31481e91c3b761c0094497",
            "aa550b0ba6b544ae99130fa314b5ce63",
            "5b7057167f424935a19d5131a286c5da",
            "45da6f807fb34526a806ddb899340a88",
            "ae0dfc3ffc2945fbb1db1c813b895925",
            "0a170612aeb047c283f0da643b85b969"
          ],
          "base_uri": "https://localhost:8080/",
          "height": 205
        },
        "id": "Bd0Q-R9ymld-",
        "outputId": "9b151fcf-ba29-40fe-f175-7c9fc623b79c"
      },
      "outputs": [
        {
          "output_type": "display_data",
          "data": {
            "text/plain": [
              "Downloading (…)ve/main/spiece.model:   0%|          | 0.00/792k [00:00<?, ?B/s]"
            ],
            "application/vnd.jupyter.widget-view+json": {
              "version_major": 2,
              "version_minor": 0,
              "model_id": "2ab676234dc5456896e363953f7abb19"
            }
          },
          "metadata": {}
        },
        {
          "output_type": "display_data",
          "data": {
            "text/plain": [
              "Downloading (…)lve/main/config.json:   0%|          | 0.00/1.21k [00:00<?, ?B/s]"
            ],
            "application/vnd.jupyter.widget-view+json": {
              "version_major": 2,
              "version_minor": 0,
              "model_id": "fe069c9ff1674fd5918822d0fc3929c0"
            }
          },
          "metadata": {}
        },
        {
          "output_type": "stream",
          "name": "stderr",
          "text": [
            "/usr/local/lib/python3.10/dist-packages/transformers/models/t5/tokenization_t5.py:163: FutureWarning: This tokenizer was incorrectly instantiated with a model max length of 512 which will be corrected in Transformers v5.\n",
            "For now, this behavior is kept to avoid breaking backwards compatibility when padding/encoding with `truncation is True`.\n",
            "- Be aware that you SHOULD NOT rely on t5-base automatically truncating your input to 512 when padding/encoding.\n",
            "- If you want to encode/pad to sequences longer than 512 you can either instantiate this tokenizer with `model_max_length` or pass `max_length` when encoding/padding.\n",
            "- To avoid this warning, please instantiate this tokenizer with `model_max_length` set to your preferred value.\n",
            "  warnings.warn(\n"
          ]
        }
      ],
      "source": [
        "question_tokenizer = T5Tokenizer.from_pretrained('t5-base')\n",
        "question_model = question_model.to(device)"
      ]
    },
    {
      "cell_type": "code",
      "execution_count": 55,
      "metadata": {
        "colab": {
          "base_uri": "https://localhost:8080/"
        },
        "id": "E11pKXrOibzn",
        "outputId": "a6e12033-bece-49c3-90ec-bc82f8bacbc1"
      },
      "outputs": [
        {
          "output_type": "stream",
          "name": "stdout",
          "text": [
            "[8774, 6, 149, 33, 25, 692, 469, 58, 1]\n"
          ]
        },
        {
          "output_type": "stream",
          "name": "stderr",
          "text": [
            "/usr/local/lib/python3.10/dist-packages/transformers/models/t5/tokenization_t5.py:163: FutureWarning: This tokenizer was incorrectly instantiated with a model max length of 512 which will be corrected in Transformers v5.\n",
            "For now, this behavior is kept to avoid breaking backwards compatibility when padding/encoding with `truncation is True`.\n",
            "- Be aware that you SHOULD NOT rely on t5-base automatically truncating your input to 512 when padding/encoding.\n",
            "- If you want to encode/pad to sequences longer than 512 you can either instantiate this tokenizer with `model_max_length` or pass `max_length` when encoding/padding.\n",
            "- To avoid this warning, please instantiate this tokenizer with `model_max_length` set to your preferred value.\n",
            "  warnings.warn(\n"
          ]
        }
      ],
      "source": [
        "from transformers import T5Tokenizer\n",
        "tokenizer = T5Tokenizer.from_pretrained('t5-base')\n",
        "text = \"Hello, how are you doing today?\"\n",
        "tokens = tokenizer.encode(text)\n",
        "print(tokens)"
      ]
    },
    {
      "cell_type": "code",
      "execution_count": 77,
      "metadata": {
        "colab": {
          "base_uri": "https://localhost:8080/"
        },
        "id": "eGJOiMJjNdOj",
        "outputId": "0ef8b148-7dbd-448c-ce2a-ccb349fa4889"
      },
      "outputs": [
        {
          "output_type": "stream",
          "name": "stdout",
          "text": [
            "Sachin Tendulkar, in full Sachin Ramesh Tendulkar, (born April 24, 1973, Bombay [Mumbai], India), Indian professional cricket player, considered by\n",
            "many to be one of the greatest batsmen of all time. Tendulkar was given his first bat when he was 11 years of age. As a 14-year-old, he used it to\n",
            "score 329 out of a world-record stand of 664 in a school match. In August 1996, at age 23, Tendulkar was made captain of his country’s team. In 1998\n",
            "he was chosen for the Rajiv Gandhi Khel Ratna Award, the highest award given to an Indian athlete, for his outstanding performance in the 1997–98\n",
            "season. Though India was again defeated by Australia, Tendulkar, who averaged 60.2, was named the man of the tournament Tendulkar made history in\n",
            "December 2005 when he scored his record-breaking 35th century in Test play against Sri Lanka. The feat was accomplished in a total of 125 Tests and\n",
            "allowed Tendulkar to surpass the prolific Indian run scorer Sunil Gavaskar. One month later he scored a historic “double century” in a contest against\n",
            "South Africa, becoming the first man in history to record 200 runs in a single innings of ODI play. He was named the 2010 International Cricket\n",
            "Council (ICC) Cricketer of the Year. In an ODI match against Bangladesh in March 2012, Tendulkar scored his record-setting 100th international century\n",
            "—which included both Test (51 centuries) and ODI (49 centuries) play. He retired from ODI cricket later that year, and in 2013 he ended a six-year\n",
            "stint with the Indian Premier League (as a member of the Mumbai Indians) and retired from Test cricket, ending his playing days with records for the\n",
            "most career international runs (34,357) and Test runs (15,921). Tendulkar was inducted into the International Cricket Council Hall of Fame in 2019.\n",
            "\n",
            "\n",
            "Who is considered by many to be one of the greatest batsmen of all time?\n",
            "Sachin tendulkar\n",
            "\n",
            "\n",
            "What is Tendulkar's full name?\n",
            "Full sachin ramesh tendulkar\n",
            "\n",
            "\n",
            "Where was Tendulkar born?\n",
            "Bombay\n",
            "\n",
            "\n",
            "Where was Tendulkar born?\n",
            "[mumbai\n",
            "\n",
            "\n",
            "What is Tendulkar's profession?\n",
            "Indian professional cricket player\n",
            "\n",
            "\n",
            "What is Tendulkar considered by many to be?\n",
            "The greatest batsmen\n",
            "\n",
            "\n",
            "Tendulkar is considered to be one of the greatest batsmen of what time?\n",
            "All time\n",
            "\n",
            "\n",
            "Who was inducted into the Hall of Fame in 2019?\n",
            "Tendulkar\n",
            "\n",
            "\n",
            "What was Tendulkar given when he was 11 years old?\n",
            "His first bat\n",
            "\n",
            "\n",
            "Who was inducted into the Hall of Fame in 2019?\n",
            "He\n",
            "\n",
            "\n",
            "How old was Tendulkar when he was given his first bat?\n",
            "11 years\n",
            "\n",
            "\n",
            "How old was Tendulkar when he scored his 35th century?\n",
            "Age\n",
            "\n",
            "\n",
            "How many Test runs did he have in his career?\n",
            "It\n",
            "\n",
            "\n",
            "What record did he set in school?\n",
            "A world-record stand\n",
            "\n",
            "\n",
            "When did he set a world record of 664?\n",
            "A school match\n",
            "\n",
            "\n",
            "When was Tendulkar made captain of India's national team?\n",
            "August\n",
            "\n",
            "\n",
            "What was Tendulkar's title in 1996?\n",
            "Captain\n",
            "\n",
            "\n",
            "What team did Tendulkar captain in 1996?\n",
            "His country’s team\n",
            "\n",
            "\n",
            "What is the highest award given to an Indian athlete?\n",
            "The rajiv gandhi khel ratna award\n",
            "\n",
            "\n",
            "What is the Rajiv Gandhi Khel Ratna Award?\n",
            "The highest award\n",
            "\n",
            "\n",
            "Who receives the Rajiv Gandhi Khel Ratna Award?\n",
            "An indian athlete\n",
            "\n",
            "\n",
            "Why was he chosen for the Rajiv Gandhi Khel Ratna Award?\n",
            "His outstanding performance\n",
            "\n",
            "\n",
            "When did he win the Rajiv Gandhi Khel Ratna Award?\n",
            "The 1997–98 season\n",
            "\n",
            "\n",
            "In what league did he play for six years?\n",
            "India\n",
            "\n",
            "\n",
            "What team defeated India in Test play?\n",
            "Australia\n",
            "\n",
            "\n",
            "Who was Tendulkar named the man of the tournament?\n",
            "Who\n",
            "\n",
            "\n",
            "What title did Tendulkar win in the 2005 Tests?\n",
            "The man\n",
            "\n",
            "\n",
            "Tendulkar was named the man of what?\n",
            "The tournament\n",
            "\n",
            "\n",
            "What is the first man to record 200 runs in a single innings of ODI play?\n",
            "History\n",
            "\n",
            "\n",
            "In what month of 2005 did Tendulkar score his 35th century?\n",
            "December\n",
            "\n",
            "\n",
            "What did Tendulkar score in Test play against Sri Lanka?\n",
            "His record-breaking 35th century\n",
            "\n",
            "\n",
            "In what type of play did Tendulkar score his 35th century?\n",
            "Test play\n",
            "\n",
            "\n",
            "Who did Tendulkar score his record-breaking 35th century against?\n",
            "Sri lanka\n",
            "\n",
            "\n",
            "What allowed Tendulkar to surpass Sunil Gavaskar?\n",
            "The feat\n",
            "\n",
            "\n",
            "How many Tests did Tendulkar play?\n",
            "A total\n",
            "\n",
            "\n",
            "How many Tests did Tendulkar play?\n",
            "125 tests\n",
            "\n",
            "\n",
            "Who did Tendulkar surpass in 125 Tests?\n",
            "The prolific indian run scorer sunil gavaskar\n",
            "\n",
            "\n",
            "What did he score one month later in a contest against South Africa?\n",
            "A historic “double century\n",
            "\n",
            "\n",
            "In what type of game did he score a double century?\n",
            "A contest\n",
            "\n",
            "\n",
            "Who did he score a double century against?\n",
            "South africa\n",
            "\n",
            "\n",
            "Who was the first man in history to record 200 runs in a single innings of ODI play?\n",
            "The first man\n",
            "\n",
            "\n",
            "How many runs did he score in a single innings of ODI play?\n",
            "200 runs\n",
            "\n",
            "\n",
            "How long did he play in ODI play?\n",
            "A single innings\n",
            "\n",
            "\n",
            "In what type of play did he score a double century?\n",
            "Odi play\n",
            "\n",
            "\n",
            "Who retired from ODI cricket in 2013?\n",
            "He\n",
            "\n",
            "\n",
            "What award did he receive?\n",
            "The 2010 international cricket council (icc) cricketer\n",
            "\n",
            "\n",
            "What was the 2010 ICC Cricketer of the Year?\n",
            "The year\n",
            "\n",
            "\n",
            "In what type of match did Tendulkar score his 100th international century?\n",
            "An odi match\n",
            "\n",
            "\n",
            "Who did Tendulkar score his 100th international century against in March 2012?\n",
            "Bangladesh\n",
            "\n",
            "\n",
            "In what month and year did Tendulkar score his 100th international century?\n",
            "March\n",
            "\n",
            "\n",
            "What did Tendulkar score in an ODI match against Bangladesh?\n",
            "His record-setting 100th international century\n",
            "\n",
            "\n",
            "How many centuries did Tendulkar score in his 100th international century?\n",
            "Which\n",
            "\n",
            "\n",
            "How many centuries did Tendulkar score in Test play?\n",
            "51 centuries\n",
            "\n",
            "\n",
            "How many centuries did Tendulkar score in the ODI?\n",
            "49 centuries\n",
            "\n",
            "\n",
            "What sport did he retire from?\n",
            "Odi cricket\n",
            "\n",
            "\n",
            "How long did he play in the Indian Premier League?\n",
            "A six-year stint\n",
            "\n",
            "\n",
            "What league did he play for for six years?\n",
            "The indian premier league\n",
            "\n",
            "\n",
            "How did he end his six-year stint with the Indian Premier League?\n",
            "A member\n",
            "\n",
            "\n",
            "What team did he play for in the Indian Premier League?\n",
            "The mumbai indians\n",
            "\n",
            "\n",
            "What sport did he retire from in 2013?\n",
            "Test cricket\n",
            "\n",
            "\n",
            "When did he retire from Test cricket?\n",
            "His playing days\n",
            "\n",
            "\n",
            "How many career international runs did he have?\n",
            "Records\n",
            "\n",
            "\n",
            "How many career international runs did he have?\n",
            "The most career international runs\n",
            "\n",
            "\n",
            "Along with international runs, how many runs did he have in his career?\n",
            "Test runs\n",
            "\n",
            "\n",
            "Where was Tendulkar inducted in 2019?\n",
            "The international cricket council hall\n",
            "\n",
            "\n",
            "In what Hall of Fame was Tendulkar inducted?\n",
            "Fame\n",
            "\n",
            "\n"
          ]
        }
      ],
      "source": [
        "def get_question(context,answer,model,tokenizer):\n",
        "  text = \"context: {} answer: {}\".format(context,answer)\n",
        "  encoding = tokenizer.encode_plus(text,max_length=384, pad_to_max_length=False,truncation=True, return_tensors=\"pt\").to(device)\n",
        "  input_ids, attention_mask = encoding[\"input_ids\"], encoding[\"attention_mask\"]\n",
        "\n",
        "  outs = model.generate(input_ids=input_ids,attention_mask=attention_mask,early_stopping=True,num_beams=5,num_return_sequences=1,no_repeat_ngram_size=2,max_length=72)\n",
        "  dec = [tokenizer.decode(ids,skip_special_tokens=True) for ids in outs]\n",
        "\n",
        "\n",
        "  Question = dec[0].replace(\"question:\",\"\")\n",
        "  Question= Question.strip()\n",
        "  return Question\n",
        "\n",
        "for i in wrap(summarized_text, 150):\n",
        "  print (i)\n",
        "print (\"\\n\")\n",
        "\n",
        "for key,value in sentence_extraction.items():\n",
        "  ques = get_question(value,key,question_model,question_tokenizer)\n",
        "  print (ques)\n",
        "  print (key.capitalize())\n",
        "  print (\"\\n\")"
      ]
    },
    {
      "cell_type": "code",
      "execution_count": null,
      "metadata": {
        "colab": {
          "background_save": true
        },
        "id": "93GM3FztFttg"
      },
      "outputs": [],
      "source": []
    }
  ],
  "metadata": {
    "colab": {
      "provenance": []
    },
    "kernelspec": {
      "display_name": "Python 3",
      "name": "python3"
    },
    "language_info": {
      "name": "python"
    },
    "widgets": {
      "application/vnd.jupyter.widget-state+json": {
        "6e0f1051761540e59248ff459483c080": {
          "model_module": "@jupyter-widgets/controls",
          "model_name": "HBoxModel",
          "model_module_version": "1.5.0",
          "state": {
            "_dom_classes": [],
            "_model_module": "@jupyter-widgets/controls",
            "_model_module_version": "1.5.0",
            "_model_name": "HBoxModel",
            "_view_count": null,
            "_view_module": "@jupyter-widgets/controls",
            "_view_module_version": "1.5.0",
            "_view_name": "HBoxView",
            "box_style": "",
            "children": [
              "IPY_MODEL_1f84380452974fc4aa1b45a18d9f4cd8",
              "IPY_MODEL_5cf1bb96620a44f0a734dae72098ed39",
              "IPY_MODEL_f2748cc74fd440d8917122c11562c3ab"
            ],
            "layout": "IPY_MODEL_a6dff7b7bf934f608f0b8fa978796cac"
          }
        },
        "1f84380452974fc4aa1b45a18d9f4cd8": {
          "model_module": "@jupyter-widgets/controls",
          "model_name": "HTMLModel",
          "model_module_version": "1.5.0",
          "state": {
            "_dom_classes": [],
            "_model_module": "@jupyter-widgets/controls",
            "_model_module_version": "1.5.0",
            "_model_name": "HTMLModel",
            "_view_count": null,
            "_view_module": "@jupyter-widgets/controls",
            "_view_module_version": "1.5.0",
            "_view_name": "HTMLView",
            "description": "",
            "description_tooltip": null,
            "layout": "IPY_MODEL_cb54ed4d26b44a6297d7abac12adc525",
            "placeholder": "​",
            "style": "IPY_MODEL_9a96cab4008745d08000a682d1e0433c",
            "value": "Downloading (…)lve/main/config.json: 100%"
          }
        },
        "5cf1bb96620a44f0a734dae72098ed39": {
          "model_module": "@jupyter-widgets/controls",
          "model_name": "FloatProgressModel",
          "model_module_version": "1.5.0",
          "state": {
            "_dom_classes": [],
            "_model_module": "@jupyter-widgets/controls",
            "_model_module_version": "1.5.0",
            "_model_name": "FloatProgressModel",
            "_view_count": null,
            "_view_module": "@jupyter-widgets/controls",
            "_view_module_version": "1.5.0",
            "_view_name": "ProgressView",
            "bar_style": "success",
            "description": "",
            "description_tooltip": null,
            "layout": "IPY_MODEL_5bb863da3c294f8fa8a96e048f712223",
            "max": 1208,
            "min": 0,
            "orientation": "horizontal",
            "style": "IPY_MODEL_c334b6430f874919914c31b6200d3019",
            "value": 1208
          }
        },
        "f2748cc74fd440d8917122c11562c3ab": {
          "model_module": "@jupyter-widgets/controls",
          "model_name": "HTMLModel",
          "model_module_version": "1.5.0",
          "state": {
            "_dom_classes": [],
            "_model_module": "@jupyter-widgets/controls",
            "_model_module_version": "1.5.0",
            "_model_name": "HTMLModel",
            "_view_count": null,
            "_view_module": "@jupyter-widgets/controls",
            "_view_module_version": "1.5.0",
            "_view_name": "HTMLView",
            "description": "",
            "description_tooltip": null,
            "layout": "IPY_MODEL_5c229a50adbd43b38f8b842431843f96",
            "placeholder": "​",
            "style": "IPY_MODEL_22d2b333402244678bcc5324abe3c54b",
            "value": " 1.21k/1.21k [00:00&lt;00:00, 14.3kB/s]"
          }
        },
        "a6dff7b7bf934f608f0b8fa978796cac": {
          "model_module": "@jupyter-widgets/base",
          "model_name": "LayoutModel",
          "model_module_version": "1.2.0",
          "state": {
            "_model_module": "@jupyter-widgets/base",
            "_model_module_version": "1.2.0",
            "_model_name": "LayoutModel",
            "_view_count": null,
            "_view_module": "@jupyter-widgets/base",
            "_view_module_version": "1.2.0",
            "_view_name": "LayoutView",
            "align_content": null,
            "align_items": null,
            "align_self": null,
            "border": null,
            "bottom": null,
            "display": null,
            "flex": null,
            "flex_flow": null,
            "grid_area": null,
            "grid_auto_columns": null,
            "grid_auto_flow": null,
            "grid_auto_rows": null,
            "grid_column": null,
            "grid_gap": null,
            "grid_row": null,
            "grid_template_areas": null,
            "grid_template_columns": null,
            "grid_template_rows": null,
            "height": null,
            "justify_content": null,
            "justify_items": null,
            "left": null,
            "margin": null,
            "max_height": null,
            "max_width": null,
            "min_height": null,
            "min_width": null,
            "object_fit": null,
            "object_position": null,
            "order": null,
            "overflow": null,
            "overflow_x": null,
            "overflow_y": null,
            "padding": null,
            "right": null,
            "top": null,
            "visibility": null,
            "width": null
          }
        },
        "cb54ed4d26b44a6297d7abac12adc525": {
          "model_module": "@jupyter-widgets/base",
          "model_name": "LayoutModel",
          "model_module_version": "1.2.0",
          "state": {
            "_model_module": "@jupyter-widgets/base",
            "_model_module_version": "1.2.0",
            "_model_name": "LayoutModel",
            "_view_count": null,
            "_view_module": "@jupyter-widgets/base",
            "_view_module_version": "1.2.0",
            "_view_name": "LayoutView",
            "align_content": null,
            "align_items": null,
            "align_self": null,
            "border": null,
            "bottom": null,
            "display": null,
            "flex": null,
            "flex_flow": null,
            "grid_area": null,
            "grid_auto_columns": null,
            "grid_auto_flow": null,
            "grid_auto_rows": null,
            "grid_column": null,
            "grid_gap": null,
            "grid_row": null,
            "grid_template_areas": null,
            "grid_template_columns": null,
            "grid_template_rows": null,
            "height": null,
            "justify_content": null,
            "justify_items": null,
            "left": null,
            "margin": null,
            "max_height": null,
            "max_width": null,
            "min_height": null,
            "min_width": null,
            "object_fit": null,
            "object_position": null,
            "order": null,
            "overflow": null,
            "overflow_x": null,
            "overflow_y": null,
            "padding": null,
            "right": null,
            "top": null,
            "visibility": null,
            "width": null
          }
        },
        "9a96cab4008745d08000a682d1e0433c": {
          "model_module": "@jupyter-widgets/controls",
          "model_name": "DescriptionStyleModel",
          "model_module_version": "1.5.0",
          "state": {
            "_model_module": "@jupyter-widgets/controls",
            "_model_module_version": "1.5.0",
            "_model_name": "DescriptionStyleModel",
            "_view_count": null,
            "_view_module": "@jupyter-widgets/base",
            "_view_module_version": "1.2.0",
            "_view_name": "StyleView",
            "description_width": ""
          }
        },
        "5bb863da3c294f8fa8a96e048f712223": {
          "model_module": "@jupyter-widgets/base",
          "model_name": "LayoutModel",
          "model_module_version": "1.2.0",
          "state": {
            "_model_module": "@jupyter-widgets/base",
            "_model_module_version": "1.2.0",
            "_model_name": "LayoutModel",
            "_view_count": null,
            "_view_module": "@jupyter-widgets/base",
            "_view_module_version": "1.2.0",
            "_view_name": "LayoutView",
            "align_content": null,
            "align_items": null,
            "align_self": null,
            "border": null,
            "bottom": null,
            "display": null,
            "flex": null,
            "flex_flow": null,
            "grid_area": null,
            "grid_auto_columns": null,
            "grid_auto_flow": null,
            "grid_auto_rows": null,
            "grid_column": null,
            "grid_gap": null,
            "grid_row": null,
            "grid_template_areas": null,
            "grid_template_columns": null,
            "grid_template_rows": null,
            "height": null,
            "justify_content": null,
            "justify_items": null,
            "left": null,
            "margin": null,
            "max_height": null,
            "max_width": null,
            "min_height": null,
            "min_width": null,
            "object_fit": null,
            "object_position": null,
            "order": null,
            "overflow": null,
            "overflow_x": null,
            "overflow_y": null,
            "padding": null,
            "right": null,
            "top": null,
            "visibility": null,
            "width": null
          }
        },
        "c334b6430f874919914c31b6200d3019": {
          "model_module": "@jupyter-widgets/controls",
          "model_name": "ProgressStyleModel",
          "model_module_version": "1.5.0",
          "state": {
            "_model_module": "@jupyter-widgets/controls",
            "_model_module_version": "1.5.0",
            "_model_name": "ProgressStyleModel",
            "_view_count": null,
            "_view_module": "@jupyter-widgets/base",
            "_view_module_version": "1.2.0",
            "_view_name": "StyleView",
            "bar_color": null,
            "description_width": ""
          }
        },
        "5c229a50adbd43b38f8b842431843f96": {
          "model_module": "@jupyter-widgets/base",
          "model_name": "LayoutModel",
          "model_module_version": "1.2.0",
          "state": {
            "_model_module": "@jupyter-widgets/base",
            "_model_module_version": "1.2.0",
            "_model_name": "LayoutModel",
            "_view_count": null,
            "_view_module": "@jupyter-widgets/base",
            "_view_module_version": "1.2.0",
            "_view_name": "LayoutView",
            "align_content": null,
            "align_items": null,
            "align_self": null,
            "border": null,
            "bottom": null,
            "display": null,
            "flex": null,
            "flex_flow": null,
            "grid_area": null,
            "grid_auto_columns": null,
            "grid_auto_flow": null,
            "grid_auto_rows": null,
            "grid_column": null,
            "grid_gap": null,
            "grid_row": null,
            "grid_template_areas": null,
            "grid_template_columns": null,
            "grid_template_rows": null,
            "height": null,
            "justify_content": null,
            "justify_items": null,
            "left": null,
            "margin": null,
            "max_height": null,
            "max_width": null,
            "min_height": null,
            "min_width": null,
            "object_fit": null,
            "object_position": null,
            "order": null,
            "overflow": null,
            "overflow_x": null,
            "overflow_y": null,
            "padding": null,
            "right": null,
            "top": null,
            "visibility": null,
            "width": null
          }
        },
        "22d2b333402244678bcc5324abe3c54b": {
          "model_module": "@jupyter-widgets/controls",
          "model_name": "DescriptionStyleModel",
          "model_module_version": "1.5.0",
          "state": {
            "_model_module": "@jupyter-widgets/controls",
            "_model_module_version": "1.5.0",
            "_model_name": "DescriptionStyleModel",
            "_view_count": null,
            "_view_module": "@jupyter-widgets/base",
            "_view_module_version": "1.2.0",
            "_view_name": "StyleView",
            "description_width": ""
          }
        },
        "3f7467961494428280df5dd3fbccb6cc": {
          "model_module": "@jupyter-widgets/controls",
          "model_name": "HBoxModel",
          "model_module_version": "1.5.0",
          "state": {
            "_dom_classes": [],
            "_model_module": "@jupyter-widgets/controls",
            "_model_module_version": "1.5.0",
            "_model_name": "HBoxModel",
            "_view_count": null,
            "_view_module": "@jupyter-widgets/controls",
            "_view_module_version": "1.5.0",
            "_view_name": "HBoxView",
            "box_style": "",
            "children": [
              "IPY_MODEL_5303b6e1ab524f13a04a4839675b11e5",
              "IPY_MODEL_73f7b6fd7d8d429096b5b74606692f6d",
              "IPY_MODEL_032d0bda83d148058c2fe92c435dfec7"
            ],
            "layout": "IPY_MODEL_d5c29b3581d24fb08f95ee4bd5cbf3f4"
          }
        },
        "5303b6e1ab524f13a04a4839675b11e5": {
          "model_module": "@jupyter-widgets/controls",
          "model_name": "HTMLModel",
          "model_module_version": "1.5.0",
          "state": {
            "_dom_classes": [],
            "_model_module": "@jupyter-widgets/controls",
            "_model_module_version": "1.5.0",
            "_model_name": "HTMLModel",
            "_view_count": null,
            "_view_module": "@jupyter-widgets/controls",
            "_view_module_version": "1.5.0",
            "_view_name": "HTMLView",
            "description": "",
            "description_tooltip": null,
            "layout": "IPY_MODEL_d62fc0fb62654b6e8104191732feef08",
            "placeholder": "​",
            "style": "IPY_MODEL_906b91e7aa9545e9aa2744f7ce579ba6",
            "value": "Downloading pytorch_model.bin: 100%"
          }
        },
        "73f7b6fd7d8d429096b5b74606692f6d": {
          "model_module": "@jupyter-widgets/controls",
          "model_name": "FloatProgressModel",
          "model_module_version": "1.5.0",
          "state": {
            "_dom_classes": [],
            "_model_module": "@jupyter-widgets/controls",
            "_model_module_version": "1.5.0",
            "_model_name": "FloatProgressModel",
            "_view_count": null,
            "_view_module": "@jupyter-widgets/controls",
            "_view_module_version": "1.5.0",
            "_view_name": "ProgressView",
            "bar_style": "success",
            "description": "",
            "description_tooltip": null,
            "layout": "IPY_MODEL_81adbf5047f6478da1eeb53484deb689",
            "max": 891695056,
            "min": 0,
            "orientation": "horizontal",
            "style": "IPY_MODEL_60325340d35e4a98a1c89b6e2b05a73e",
            "value": 891695056
          }
        },
        "032d0bda83d148058c2fe92c435dfec7": {
          "model_module": "@jupyter-widgets/controls",
          "model_name": "HTMLModel",
          "model_module_version": "1.5.0",
          "state": {
            "_dom_classes": [],
            "_model_module": "@jupyter-widgets/controls",
            "_model_module_version": "1.5.0",
            "_model_name": "HTMLModel",
            "_view_count": null,
            "_view_module": "@jupyter-widgets/controls",
            "_view_module_version": "1.5.0",
            "_view_name": "HTMLView",
            "description": "",
            "description_tooltip": null,
            "layout": "IPY_MODEL_632f2597a42e4a6aaa491753b63dddfc",
            "placeholder": "​",
            "style": "IPY_MODEL_f38478acedb54356aa685f7016a469e8",
            "value": " 892M/892M [00:15&lt;00:00, 18.8MB/s]"
          }
        },
        "d5c29b3581d24fb08f95ee4bd5cbf3f4": {
          "model_module": "@jupyter-widgets/base",
          "model_name": "LayoutModel",
          "model_module_version": "1.2.0",
          "state": {
            "_model_module": "@jupyter-widgets/base",
            "_model_module_version": "1.2.0",
            "_model_name": "LayoutModel",
            "_view_count": null,
            "_view_module": "@jupyter-widgets/base",
            "_view_module_version": "1.2.0",
            "_view_name": "LayoutView",
            "align_content": null,
            "align_items": null,
            "align_self": null,
            "border": null,
            "bottom": null,
            "display": null,
            "flex": null,
            "flex_flow": null,
            "grid_area": null,
            "grid_auto_columns": null,
            "grid_auto_flow": null,
            "grid_auto_rows": null,
            "grid_column": null,
            "grid_gap": null,
            "grid_row": null,
            "grid_template_areas": null,
            "grid_template_columns": null,
            "grid_template_rows": null,
            "height": null,
            "justify_content": null,
            "justify_items": null,
            "left": null,
            "margin": null,
            "max_height": null,
            "max_width": null,
            "min_height": null,
            "min_width": null,
            "object_fit": null,
            "object_position": null,
            "order": null,
            "overflow": null,
            "overflow_x": null,
            "overflow_y": null,
            "padding": null,
            "right": null,
            "top": null,
            "visibility": null,
            "width": null
          }
        },
        "d62fc0fb62654b6e8104191732feef08": {
          "model_module": "@jupyter-widgets/base",
          "model_name": "LayoutModel",
          "model_module_version": "1.2.0",
          "state": {
            "_model_module": "@jupyter-widgets/base",
            "_model_module_version": "1.2.0",
            "_model_name": "LayoutModel",
            "_view_count": null,
            "_view_module": "@jupyter-widgets/base",
            "_view_module_version": "1.2.0",
            "_view_name": "LayoutView",
            "align_content": null,
            "align_items": null,
            "align_self": null,
            "border": null,
            "bottom": null,
            "display": null,
            "flex": null,
            "flex_flow": null,
            "grid_area": null,
            "grid_auto_columns": null,
            "grid_auto_flow": null,
            "grid_auto_rows": null,
            "grid_column": null,
            "grid_gap": null,
            "grid_row": null,
            "grid_template_areas": null,
            "grid_template_columns": null,
            "grid_template_rows": null,
            "height": null,
            "justify_content": null,
            "justify_items": null,
            "left": null,
            "margin": null,
            "max_height": null,
            "max_width": null,
            "min_height": null,
            "min_width": null,
            "object_fit": null,
            "object_position": null,
            "order": null,
            "overflow": null,
            "overflow_x": null,
            "overflow_y": null,
            "padding": null,
            "right": null,
            "top": null,
            "visibility": null,
            "width": null
          }
        },
        "906b91e7aa9545e9aa2744f7ce579ba6": {
          "model_module": "@jupyter-widgets/controls",
          "model_name": "DescriptionStyleModel",
          "model_module_version": "1.5.0",
          "state": {
            "_model_module": "@jupyter-widgets/controls",
            "_model_module_version": "1.5.0",
            "_model_name": "DescriptionStyleModel",
            "_view_count": null,
            "_view_module": "@jupyter-widgets/base",
            "_view_module_version": "1.2.0",
            "_view_name": "StyleView",
            "description_width": ""
          }
        },
        "81adbf5047f6478da1eeb53484deb689": {
          "model_module": "@jupyter-widgets/base",
          "model_name": "LayoutModel",
          "model_module_version": "1.2.0",
          "state": {
            "_model_module": "@jupyter-widgets/base",
            "_model_module_version": "1.2.0",
            "_model_name": "LayoutModel",
            "_view_count": null,
            "_view_module": "@jupyter-widgets/base",
            "_view_module_version": "1.2.0",
            "_view_name": "LayoutView",
            "align_content": null,
            "align_items": null,
            "align_self": null,
            "border": null,
            "bottom": null,
            "display": null,
            "flex": null,
            "flex_flow": null,
            "grid_area": null,
            "grid_auto_columns": null,
            "grid_auto_flow": null,
            "grid_auto_rows": null,
            "grid_column": null,
            "grid_gap": null,
            "grid_row": null,
            "grid_template_areas": null,
            "grid_template_columns": null,
            "grid_template_rows": null,
            "height": null,
            "justify_content": null,
            "justify_items": null,
            "left": null,
            "margin": null,
            "max_height": null,
            "max_width": null,
            "min_height": null,
            "min_width": null,
            "object_fit": null,
            "object_position": null,
            "order": null,
            "overflow": null,
            "overflow_x": null,
            "overflow_y": null,
            "padding": null,
            "right": null,
            "top": null,
            "visibility": null,
            "width": null
          }
        },
        "60325340d35e4a98a1c89b6e2b05a73e": {
          "model_module": "@jupyter-widgets/controls",
          "model_name": "ProgressStyleModel",
          "model_module_version": "1.5.0",
          "state": {
            "_model_module": "@jupyter-widgets/controls",
            "_model_module_version": "1.5.0",
            "_model_name": "ProgressStyleModel",
            "_view_count": null,
            "_view_module": "@jupyter-widgets/base",
            "_view_module_version": "1.2.0",
            "_view_name": "StyleView",
            "bar_color": null,
            "description_width": ""
          }
        },
        "632f2597a42e4a6aaa491753b63dddfc": {
          "model_module": "@jupyter-widgets/base",
          "model_name": "LayoutModel",
          "model_module_version": "1.2.0",
          "state": {
            "_model_module": "@jupyter-widgets/base",
            "_model_module_version": "1.2.0",
            "_model_name": "LayoutModel",
            "_view_count": null,
            "_view_module": "@jupyter-widgets/base",
            "_view_module_version": "1.2.0",
            "_view_name": "LayoutView",
            "align_content": null,
            "align_items": null,
            "align_self": null,
            "border": null,
            "bottom": null,
            "display": null,
            "flex": null,
            "flex_flow": null,
            "grid_area": null,
            "grid_auto_columns": null,
            "grid_auto_flow": null,
            "grid_auto_rows": null,
            "grid_column": null,
            "grid_gap": null,
            "grid_row": null,
            "grid_template_areas": null,
            "grid_template_columns": null,
            "grid_template_rows": null,
            "height": null,
            "justify_content": null,
            "justify_items": null,
            "left": null,
            "margin": null,
            "max_height": null,
            "max_width": null,
            "min_height": null,
            "min_width": null,
            "object_fit": null,
            "object_position": null,
            "order": null,
            "overflow": null,
            "overflow_x": null,
            "overflow_y": null,
            "padding": null,
            "right": null,
            "top": null,
            "visibility": null,
            "width": null
          }
        },
        "f38478acedb54356aa685f7016a469e8": {
          "model_module": "@jupyter-widgets/controls",
          "model_name": "DescriptionStyleModel",
          "model_module_version": "1.5.0",
          "state": {
            "_model_module": "@jupyter-widgets/controls",
            "_model_module_version": "1.5.0",
            "_model_name": "DescriptionStyleModel",
            "_view_count": null,
            "_view_module": "@jupyter-widgets/base",
            "_view_module_version": "1.2.0",
            "_view_name": "StyleView",
            "description_width": ""
          }
        },
        "2ab676234dc5456896e363953f7abb19": {
          "model_module": "@jupyter-widgets/controls",
          "model_name": "HBoxModel",
          "model_module_version": "1.5.0",
          "state": {
            "_dom_classes": [],
            "_model_module": "@jupyter-widgets/controls",
            "_model_module_version": "1.5.0",
            "_model_name": "HBoxModel",
            "_view_count": null,
            "_view_module": "@jupyter-widgets/controls",
            "_view_module_version": "1.5.0",
            "_view_name": "HBoxView",
            "box_style": "",
            "children": [
              "IPY_MODEL_c1cb536f6fb948afa3ab179e2080af76",
              "IPY_MODEL_4f7412938a404ef9bdcca90f4512a711",
              "IPY_MODEL_33c03c70a12f493793bddbe3373fb53a"
            ],
            "layout": "IPY_MODEL_1706b3c2b7dc4a83bf44310645a5a86f"
          }
        },
        "c1cb536f6fb948afa3ab179e2080af76": {
          "model_module": "@jupyter-widgets/controls",
          "model_name": "HTMLModel",
          "model_module_version": "1.5.0",
          "state": {
            "_dom_classes": [],
            "_model_module": "@jupyter-widgets/controls",
            "_model_module_version": "1.5.0",
            "_model_name": "HTMLModel",
            "_view_count": null,
            "_view_module": "@jupyter-widgets/controls",
            "_view_module_version": "1.5.0",
            "_view_name": "HTMLView",
            "description": "",
            "description_tooltip": null,
            "layout": "IPY_MODEL_f3ac673332074c8ba0d24cd8ce0926e1",
            "placeholder": "​",
            "style": "IPY_MODEL_769416efd95b41cbaef0523e615f887f",
            "value": "Downloading (…)ve/main/spiece.model: 100%"
          }
        },
        "4f7412938a404ef9bdcca90f4512a711": {
          "model_module": "@jupyter-widgets/controls",
          "model_name": "FloatProgressModel",
          "model_module_version": "1.5.0",
          "state": {
            "_dom_classes": [],
            "_model_module": "@jupyter-widgets/controls",
            "_model_module_version": "1.5.0",
            "_model_name": "FloatProgressModel",
            "_view_count": null,
            "_view_module": "@jupyter-widgets/controls",
            "_view_module_version": "1.5.0",
            "_view_name": "ProgressView",
            "bar_style": "success",
            "description": "",
            "description_tooltip": null,
            "layout": "IPY_MODEL_9045e3831501476faf6f4a2fc9276ec8",
            "max": 791656,
            "min": 0,
            "orientation": "horizontal",
            "style": "IPY_MODEL_a049be4853ca4e72a9e12a363fcc6a34",
            "value": 791656
          }
        },
        "33c03c70a12f493793bddbe3373fb53a": {
          "model_module": "@jupyter-widgets/controls",
          "model_name": "HTMLModel",
          "model_module_version": "1.5.0",
          "state": {
            "_dom_classes": [],
            "_model_module": "@jupyter-widgets/controls",
            "_model_module_version": "1.5.0",
            "_model_name": "HTMLModel",
            "_view_count": null,
            "_view_module": "@jupyter-widgets/controls",
            "_view_module_version": "1.5.0",
            "_view_name": "HTMLView",
            "description": "",
            "description_tooltip": null,
            "layout": "IPY_MODEL_ece52629b57d4061870c7651affa2ccd",
            "placeholder": "​",
            "style": "IPY_MODEL_a9d48ca0ba3349c6824ace19f9370256",
            "value": " 792k/792k [00:00&lt;00:00, 8.70MB/s]"
          }
        },
        "1706b3c2b7dc4a83bf44310645a5a86f": {
          "model_module": "@jupyter-widgets/base",
          "model_name": "LayoutModel",
          "model_module_version": "1.2.0",
          "state": {
            "_model_module": "@jupyter-widgets/base",
            "_model_module_version": "1.2.0",
            "_model_name": "LayoutModel",
            "_view_count": null,
            "_view_module": "@jupyter-widgets/base",
            "_view_module_version": "1.2.0",
            "_view_name": "LayoutView",
            "align_content": null,
            "align_items": null,
            "align_self": null,
            "border": null,
            "bottom": null,
            "display": null,
            "flex": null,
            "flex_flow": null,
            "grid_area": null,
            "grid_auto_columns": null,
            "grid_auto_flow": null,
            "grid_auto_rows": null,
            "grid_column": null,
            "grid_gap": null,
            "grid_row": null,
            "grid_template_areas": null,
            "grid_template_columns": null,
            "grid_template_rows": null,
            "height": null,
            "justify_content": null,
            "justify_items": null,
            "left": null,
            "margin": null,
            "max_height": null,
            "max_width": null,
            "min_height": null,
            "min_width": null,
            "object_fit": null,
            "object_position": null,
            "order": null,
            "overflow": null,
            "overflow_x": null,
            "overflow_y": null,
            "padding": null,
            "right": null,
            "top": null,
            "visibility": null,
            "width": null
          }
        },
        "f3ac673332074c8ba0d24cd8ce0926e1": {
          "model_module": "@jupyter-widgets/base",
          "model_name": "LayoutModel",
          "model_module_version": "1.2.0",
          "state": {
            "_model_module": "@jupyter-widgets/base",
            "_model_module_version": "1.2.0",
            "_model_name": "LayoutModel",
            "_view_count": null,
            "_view_module": "@jupyter-widgets/base",
            "_view_module_version": "1.2.0",
            "_view_name": "LayoutView",
            "align_content": null,
            "align_items": null,
            "align_self": null,
            "border": null,
            "bottom": null,
            "display": null,
            "flex": null,
            "flex_flow": null,
            "grid_area": null,
            "grid_auto_columns": null,
            "grid_auto_flow": null,
            "grid_auto_rows": null,
            "grid_column": null,
            "grid_gap": null,
            "grid_row": null,
            "grid_template_areas": null,
            "grid_template_columns": null,
            "grid_template_rows": null,
            "height": null,
            "justify_content": null,
            "justify_items": null,
            "left": null,
            "margin": null,
            "max_height": null,
            "max_width": null,
            "min_height": null,
            "min_width": null,
            "object_fit": null,
            "object_position": null,
            "order": null,
            "overflow": null,
            "overflow_x": null,
            "overflow_y": null,
            "padding": null,
            "right": null,
            "top": null,
            "visibility": null,
            "width": null
          }
        },
        "769416efd95b41cbaef0523e615f887f": {
          "model_module": "@jupyter-widgets/controls",
          "model_name": "DescriptionStyleModel",
          "model_module_version": "1.5.0",
          "state": {
            "_model_module": "@jupyter-widgets/controls",
            "_model_module_version": "1.5.0",
            "_model_name": "DescriptionStyleModel",
            "_view_count": null,
            "_view_module": "@jupyter-widgets/base",
            "_view_module_version": "1.2.0",
            "_view_name": "StyleView",
            "description_width": ""
          }
        },
        "9045e3831501476faf6f4a2fc9276ec8": {
          "model_module": "@jupyter-widgets/base",
          "model_name": "LayoutModel",
          "model_module_version": "1.2.0",
          "state": {
            "_model_module": "@jupyter-widgets/base",
            "_model_module_version": "1.2.0",
            "_model_name": "LayoutModel",
            "_view_count": null,
            "_view_module": "@jupyter-widgets/base",
            "_view_module_version": "1.2.0",
            "_view_name": "LayoutView",
            "align_content": null,
            "align_items": null,
            "align_self": null,
            "border": null,
            "bottom": null,
            "display": null,
            "flex": null,
            "flex_flow": null,
            "grid_area": null,
            "grid_auto_columns": null,
            "grid_auto_flow": null,
            "grid_auto_rows": null,
            "grid_column": null,
            "grid_gap": null,
            "grid_row": null,
            "grid_template_areas": null,
            "grid_template_columns": null,
            "grid_template_rows": null,
            "height": null,
            "justify_content": null,
            "justify_items": null,
            "left": null,
            "margin": null,
            "max_height": null,
            "max_width": null,
            "min_height": null,
            "min_width": null,
            "object_fit": null,
            "object_position": null,
            "order": null,
            "overflow": null,
            "overflow_x": null,
            "overflow_y": null,
            "padding": null,
            "right": null,
            "top": null,
            "visibility": null,
            "width": null
          }
        },
        "a049be4853ca4e72a9e12a363fcc6a34": {
          "model_module": "@jupyter-widgets/controls",
          "model_name": "ProgressStyleModel",
          "model_module_version": "1.5.0",
          "state": {
            "_model_module": "@jupyter-widgets/controls",
            "_model_module_version": "1.5.0",
            "_model_name": "ProgressStyleModel",
            "_view_count": null,
            "_view_module": "@jupyter-widgets/base",
            "_view_module_version": "1.2.0",
            "_view_name": "StyleView",
            "bar_color": null,
            "description_width": ""
          }
        },
        "ece52629b57d4061870c7651affa2ccd": {
          "model_module": "@jupyter-widgets/base",
          "model_name": "LayoutModel",
          "model_module_version": "1.2.0",
          "state": {
            "_model_module": "@jupyter-widgets/base",
            "_model_module_version": "1.2.0",
            "_model_name": "LayoutModel",
            "_view_count": null,
            "_view_module": "@jupyter-widgets/base",
            "_view_module_version": "1.2.0",
            "_view_name": "LayoutView",
            "align_content": null,
            "align_items": null,
            "align_self": null,
            "border": null,
            "bottom": null,
            "display": null,
            "flex": null,
            "flex_flow": null,
            "grid_area": null,
            "grid_auto_columns": null,
            "grid_auto_flow": null,
            "grid_auto_rows": null,
            "grid_column": null,
            "grid_gap": null,
            "grid_row": null,
            "grid_template_areas": null,
            "grid_template_columns": null,
            "grid_template_rows": null,
            "height": null,
            "justify_content": null,
            "justify_items": null,
            "left": null,
            "margin": null,
            "max_height": null,
            "max_width": null,
            "min_height": null,
            "min_width": null,
            "object_fit": null,
            "object_position": null,
            "order": null,
            "overflow": null,
            "overflow_x": null,
            "overflow_y": null,
            "padding": null,
            "right": null,
            "top": null,
            "visibility": null,
            "width": null
          }
        },
        "a9d48ca0ba3349c6824ace19f9370256": {
          "model_module": "@jupyter-widgets/controls",
          "model_name": "DescriptionStyleModel",
          "model_module_version": "1.5.0",
          "state": {
            "_model_module": "@jupyter-widgets/controls",
            "_model_module_version": "1.5.0",
            "_model_name": "DescriptionStyleModel",
            "_view_count": null,
            "_view_module": "@jupyter-widgets/base",
            "_view_module_version": "1.2.0",
            "_view_name": "StyleView",
            "description_width": ""
          }
        },
        "fe069c9ff1674fd5918822d0fc3929c0": {
          "model_module": "@jupyter-widgets/controls",
          "model_name": "HBoxModel",
          "model_module_version": "1.5.0",
          "state": {
            "_dom_classes": [],
            "_model_module": "@jupyter-widgets/controls",
            "_model_module_version": "1.5.0",
            "_model_name": "HBoxModel",
            "_view_count": null,
            "_view_module": "@jupyter-widgets/controls",
            "_view_module_version": "1.5.0",
            "_view_name": "HBoxView",
            "box_style": "",
            "children": [
              "IPY_MODEL_e159d6ded851430ca724d439bea9f8c1",
              "IPY_MODEL_41079f8376404eb4a7c78f159a4a3a75",
              "IPY_MODEL_6d4d61a8b7ee4d259d73020c15373411"
            ],
            "layout": "IPY_MODEL_51b8229f0e7c4ddabbf7a270917d47fb"
          }
        },
        "e159d6ded851430ca724d439bea9f8c1": {
          "model_module": "@jupyter-widgets/controls",
          "model_name": "HTMLModel",
          "model_module_version": "1.5.0",
          "state": {
            "_dom_classes": [],
            "_model_module": "@jupyter-widgets/controls",
            "_model_module_version": "1.5.0",
            "_model_name": "HTMLModel",
            "_view_count": null,
            "_view_module": "@jupyter-widgets/controls",
            "_view_module_version": "1.5.0",
            "_view_name": "HTMLView",
            "description": "",
            "description_tooltip": null,
            "layout": "IPY_MODEL_7b76df789c31481e91c3b761c0094497",
            "placeholder": "​",
            "style": "IPY_MODEL_aa550b0ba6b544ae99130fa314b5ce63",
            "value": "Downloading (…)lve/main/config.json: 100%"
          }
        },
        "41079f8376404eb4a7c78f159a4a3a75": {
          "model_module": "@jupyter-widgets/controls",
          "model_name": "FloatProgressModel",
          "model_module_version": "1.5.0",
          "state": {
            "_dom_classes": [],
            "_model_module": "@jupyter-widgets/controls",
            "_model_module_version": "1.5.0",
            "_model_name": "FloatProgressModel",
            "_view_count": null,
            "_view_module": "@jupyter-widgets/controls",
            "_view_module_version": "1.5.0",
            "_view_name": "ProgressView",
            "bar_style": "success",
            "description": "",
            "description_tooltip": null,
            "layout": "IPY_MODEL_5b7057167f424935a19d5131a286c5da",
            "max": 1208,
            "min": 0,
            "orientation": "horizontal",
            "style": "IPY_MODEL_45da6f807fb34526a806ddb899340a88",
            "value": 1208
          }
        },
        "6d4d61a8b7ee4d259d73020c15373411": {
          "model_module": "@jupyter-widgets/controls",
          "model_name": "HTMLModel",
          "model_module_version": "1.5.0",
          "state": {
            "_dom_classes": [],
            "_model_module": "@jupyter-widgets/controls",
            "_model_module_version": "1.5.0",
            "_model_name": "HTMLModel",
            "_view_count": null,
            "_view_module": "@jupyter-widgets/controls",
            "_view_module_version": "1.5.0",
            "_view_name": "HTMLView",
            "description": "",
            "description_tooltip": null,
            "layout": "IPY_MODEL_ae0dfc3ffc2945fbb1db1c813b895925",
            "placeholder": "​",
            "style": "IPY_MODEL_0a170612aeb047c283f0da643b85b969",
            "value": " 1.21k/1.21k [00:00&lt;00:00, 47.8kB/s]"
          }
        },
        "51b8229f0e7c4ddabbf7a270917d47fb": {
          "model_module": "@jupyter-widgets/base",
          "model_name": "LayoutModel",
          "model_module_version": "1.2.0",
          "state": {
            "_model_module": "@jupyter-widgets/base",
            "_model_module_version": "1.2.0",
            "_model_name": "LayoutModel",
            "_view_count": null,
            "_view_module": "@jupyter-widgets/base",
            "_view_module_version": "1.2.0",
            "_view_name": "LayoutView",
            "align_content": null,
            "align_items": null,
            "align_self": null,
            "border": null,
            "bottom": null,
            "display": null,
            "flex": null,
            "flex_flow": null,
            "grid_area": null,
            "grid_auto_columns": null,
            "grid_auto_flow": null,
            "grid_auto_rows": null,
            "grid_column": null,
            "grid_gap": null,
            "grid_row": null,
            "grid_template_areas": null,
            "grid_template_columns": null,
            "grid_template_rows": null,
            "height": null,
            "justify_content": null,
            "justify_items": null,
            "left": null,
            "margin": null,
            "max_height": null,
            "max_width": null,
            "min_height": null,
            "min_width": null,
            "object_fit": null,
            "object_position": null,
            "order": null,
            "overflow": null,
            "overflow_x": null,
            "overflow_y": null,
            "padding": null,
            "right": null,
            "top": null,
            "visibility": null,
            "width": null
          }
        },
        "7b76df789c31481e91c3b761c0094497": {
          "model_module": "@jupyter-widgets/base",
          "model_name": "LayoutModel",
          "model_module_version": "1.2.0",
          "state": {
            "_model_module": "@jupyter-widgets/base",
            "_model_module_version": "1.2.0",
            "_model_name": "LayoutModel",
            "_view_count": null,
            "_view_module": "@jupyter-widgets/base",
            "_view_module_version": "1.2.0",
            "_view_name": "LayoutView",
            "align_content": null,
            "align_items": null,
            "align_self": null,
            "border": null,
            "bottom": null,
            "display": null,
            "flex": null,
            "flex_flow": null,
            "grid_area": null,
            "grid_auto_columns": null,
            "grid_auto_flow": null,
            "grid_auto_rows": null,
            "grid_column": null,
            "grid_gap": null,
            "grid_row": null,
            "grid_template_areas": null,
            "grid_template_columns": null,
            "grid_template_rows": null,
            "height": null,
            "justify_content": null,
            "justify_items": null,
            "left": null,
            "margin": null,
            "max_height": null,
            "max_width": null,
            "min_height": null,
            "min_width": null,
            "object_fit": null,
            "object_position": null,
            "order": null,
            "overflow": null,
            "overflow_x": null,
            "overflow_y": null,
            "padding": null,
            "right": null,
            "top": null,
            "visibility": null,
            "width": null
          }
        },
        "aa550b0ba6b544ae99130fa314b5ce63": {
          "model_module": "@jupyter-widgets/controls",
          "model_name": "DescriptionStyleModel",
          "model_module_version": "1.5.0",
          "state": {
            "_model_module": "@jupyter-widgets/controls",
            "_model_module_version": "1.5.0",
            "_model_name": "DescriptionStyleModel",
            "_view_count": null,
            "_view_module": "@jupyter-widgets/base",
            "_view_module_version": "1.2.0",
            "_view_name": "StyleView",
            "description_width": ""
          }
        },
        "5b7057167f424935a19d5131a286c5da": {
          "model_module": "@jupyter-widgets/base",
          "model_name": "LayoutModel",
          "model_module_version": "1.2.0",
          "state": {
            "_model_module": "@jupyter-widgets/base",
            "_model_module_version": "1.2.0",
            "_model_name": "LayoutModel",
            "_view_count": null,
            "_view_module": "@jupyter-widgets/base",
            "_view_module_version": "1.2.0",
            "_view_name": "LayoutView",
            "align_content": null,
            "align_items": null,
            "align_self": null,
            "border": null,
            "bottom": null,
            "display": null,
            "flex": null,
            "flex_flow": null,
            "grid_area": null,
            "grid_auto_columns": null,
            "grid_auto_flow": null,
            "grid_auto_rows": null,
            "grid_column": null,
            "grid_gap": null,
            "grid_row": null,
            "grid_template_areas": null,
            "grid_template_columns": null,
            "grid_template_rows": null,
            "height": null,
            "justify_content": null,
            "justify_items": null,
            "left": null,
            "margin": null,
            "max_height": null,
            "max_width": null,
            "min_height": null,
            "min_width": null,
            "object_fit": null,
            "object_position": null,
            "order": null,
            "overflow": null,
            "overflow_x": null,
            "overflow_y": null,
            "padding": null,
            "right": null,
            "top": null,
            "visibility": null,
            "width": null
          }
        },
        "45da6f807fb34526a806ddb899340a88": {
          "model_module": "@jupyter-widgets/controls",
          "model_name": "ProgressStyleModel",
          "model_module_version": "1.5.0",
          "state": {
            "_model_module": "@jupyter-widgets/controls",
            "_model_module_version": "1.5.0",
            "_model_name": "ProgressStyleModel",
            "_view_count": null,
            "_view_module": "@jupyter-widgets/base",
            "_view_module_version": "1.2.0",
            "_view_name": "StyleView",
            "bar_color": null,
            "description_width": ""
          }
        },
        "ae0dfc3ffc2945fbb1db1c813b895925": {
          "model_module": "@jupyter-widgets/base",
          "model_name": "LayoutModel",
          "model_module_version": "1.2.0",
          "state": {
            "_model_module": "@jupyter-widgets/base",
            "_model_module_version": "1.2.0",
            "_model_name": "LayoutModel",
            "_view_count": null,
            "_view_module": "@jupyter-widgets/base",
            "_view_module_version": "1.2.0",
            "_view_name": "LayoutView",
            "align_content": null,
            "align_items": null,
            "align_self": null,
            "border": null,
            "bottom": null,
            "display": null,
            "flex": null,
            "flex_flow": null,
            "grid_area": null,
            "grid_auto_columns": null,
            "grid_auto_flow": null,
            "grid_auto_rows": null,
            "grid_column": null,
            "grid_gap": null,
            "grid_row": null,
            "grid_template_areas": null,
            "grid_template_columns": null,
            "grid_template_rows": null,
            "height": null,
            "justify_content": null,
            "justify_items": null,
            "left": null,
            "margin": null,
            "max_height": null,
            "max_width": null,
            "min_height": null,
            "min_width": null,
            "object_fit": null,
            "object_position": null,
            "order": null,
            "overflow": null,
            "overflow_x": null,
            "overflow_y": null,
            "padding": null,
            "right": null,
            "top": null,
            "visibility": null,
            "width": null
          }
        },
        "0a170612aeb047c283f0da643b85b969": {
          "model_module": "@jupyter-widgets/controls",
          "model_name": "DescriptionStyleModel",
          "model_module_version": "1.5.0",
          "state": {
            "_model_module": "@jupyter-widgets/controls",
            "_model_module_version": "1.5.0",
            "_model_name": "DescriptionStyleModel",
            "_view_count": null,
            "_view_module": "@jupyter-widgets/base",
            "_view_module_version": "1.2.0",
            "_view_name": "StyleView",
            "description_width": ""
          }
        }
      }
    }
  },
  "nbformat": 4,
  "nbformat_minor": 0
}